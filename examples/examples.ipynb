{
 "cells": [
  {
   "cell_type": "code",
   "execution_count": 1,
   "id": "b50dc8a6",
   "metadata": {},
   "outputs": [],
   "source": [
    "import chemicalfun as cf\n",
    "#import numpy as np"
   ]
  },
  {
   "cell_type": "code",
   "execution_count": 2,
   "id": "27e9f901",
   "metadata": {},
   "outputs": [],
   "source": [
    "elements = cf.DBElements()\n",
    "#all_elements.readElements(dbElements_str);"
   ]
  },
  {
   "cell_type": "code",
   "execution_count": 3,
   "id": "6fac5d75",
   "metadata": {},
   "outputs": [],
   "source": [
    "file = open('../Resources/elementsDB.json')"
   ]
  },
  {
   "cell_type": "code",
   "execution_count": 4,
   "id": "4ea32d9b",
   "metadata": {},
   "outputs": [],
   "source": [
    "elements.readElements(file.read())"
   ]
  },
  {
   "cell_type": "code",
   "execution_count": 5,
   "id": "b813c89d",
   "metadata": {},
   "outputs": [
    {
     "name": "stdout",
     "output_type": "stream",
     "text": [
      "DBElements\n",
      "{Ag, Al, Am, Ar, As, Au, B, Ba, Be, Bi, Br, C, Ca, Cd, Ce, Cl, Cm, Co, Cr, Cs, Cu, Dy, Er, Eu, F, Fe, Ga, Gd, Ge, H, He, Hf, Hg, Ho, I, In, Ir, K, Kr, La, Li, Lu, Mg, Mn, Mo, N, Na, Nb, Nd, Ne, Ni, Nia|2, Nit|2, Np, O, Os, P, Pa, Pb, Pd, Po, Pr, Pt, Pu, Ra, Rb, Re, Rh, Rn, Ru, S, Sb, Sc, Se, Si, Sm, Sn, Sr, Ta, Tb, Tc, Te, Th, Ti, Tl, Tm, U, V, Vol|5, W, Xe, Y, Yb, Zn, Zr, Zz|4}\n"
     ]
    }
   ],
   "source": [
    "print(\"DBElements\")\n",
    "print(elements.elementsKeys())\n"
   ]
  },
  {
   "cell_type": "code",
   "execution_count": 6,
   "id": "1ec0153c",
   "metadata": {},
   "outputs": [
    {
     "name": "stdout",
     "output_type": "stream",
     "text": [
      "\n",
      "{Ag: {\"atomic_mass\":107.868202209473,\"entropy\":42.5499992370605,\"heat_capacity\":25.3500003814697,\"name\":\"Ag\",\"number\":47,\"recid\":\"\",\"valence\":1,\"volume\":10.2720003128052}, Al: {\"atomic_mass\":26.9815406799316,\"entropy\":28.2999992370605,\"heat_capacity\":24.2000007629395,\"name\":\"Al\",\"number\":13,\"recid\":\"\",\"valence\":3,\"volume\":9.99300003051758}, Am: {\"atomic_mass\":243.061004638672,\"entropy\":55.4000015258789,\"heat_capacity\":25.5,\"name\":\"Am\",\"number\":95,\"recid\":\"\",\"valence\":3,\"volume\":17.6299991607666}, Ar: {\"atomic_mass\":39.9480018615723,\"entropy\":154.845993041992,\"heat_capacity\":20.7859992980957,\"name\":\"Ar\",\"number\":18,\"recid\":\"\",\"valence\":0,\"volume\":24790.0}, As: {\"atomic_mass\":74.9215927124023,\"entropy\":35.689998626709,\"heat_capacity\":24.6539993286133,\"name\":\"As\",\"number\":33,\"recid\":\"\",\"valence\":5,\"volume\":12.9630002975464}, Au: {\"atomic_mass\":196.966995239258,\"entropy\":47.4000015258789,\"heat_capacity\":25.4179992675781,\"name\":\"Au\",\"number\":79,\"recid\":\"\",\"valence\":1,\"volume\":10.2150001525879}, B: {\"atomic_mass\":10.8120002746582,\"entropy\":5.90000009536743,\"heat_capacity\":11.0869998931885,\"name\":\"B\",\"number\":5,\"recid\":\"\",\"valence\":3,\"volume\":4.38600015640259}, Ba: {\"atomic_mass\":137.328002929688,\"entropy\":62.4199981689453,\"heat_capacity\":28.0699996948242,\"name\":\"Ba\",\"number\":56,\"recid\":\"\",\"valence\":2,\"volume\":39.2400016784668}, Be: {\"atomic_mass\":9.01218032836914,\"entropy\":9.5,\"heat_capacity\":16.443000793457,\"name\":\"Be\",\"number\":4,\"recid\":\"\",\"valence\":2,\"volume\":4.88000011444092}, Bi: {\"atomic_mass\":208.979995727539,\"entropy\":56.7400016784668,\"heat_capacity\":25.5200004577637,\"name\":\"Bi\",\"number\":83,\"recid\":\"\",\"valence\":3,\"volume\":21.3090000152588}, Br: {\"atomic_mass\":79.9039993286133,\"entropy\":76.1050033569336,\"heat_capacity\":37.8450012207031,\"name\":\"Br\",\"number\":35,\"recid\":\"\",\"valence\":-1,\"volume\":27.2900009155273}, C: {\"atomic_mass\":12.0108003616333,\"entropy\":5.73999977111816,\"heat_capacity\":8.68200016021729,\"name\":\"C\",\"number\":6,\"recid\":\"\",\"valence\":4,\"volume\":4.58440017700195}, Ca: {\"atomic_mass\":40.0779991149902,\"entropy\":41.5900001525879,\"heat_capacity\":25.9290008544922,\"name\":\"Ca\",\"number\":20,\"recid\":\"\",\"valence\":2,\"volume\":25.8600006103516}, Cd: {\"atomic_mass\":112.410003662109,\"entropy\":51.7999992370605,\"heat_capacity\":26.0200004577637,\"name\":\"Cd\",\"number\":48,\"recid\":\"\",\"valence\":2,\"volume\":12.9949998855591}, Ce: {\"atomic_mass\":140.119995117188,\"entropy\":72.0,\"heat_capacity\":26.9400005340576,\"name\":\"Ce\",\"number\":58,\"recid\":\"\",\"valence\":3,\"volume\":20.6700000762939}, Cl: {\"atomic_mass\":35.4529991149902,\"entropy\":111.540496826172,\"heat_capacity\":16.9745006561279,\"name\":\"Cl\",\"number\":17,\"recid\":\"\",\"valence\":-1,\"volume\":12395.0}, Cm: {\"atomic_mass\":247.0,\"entropy\":70.8000030517578,\"heat_capacity\":0.0,\"name\":\"Cm\",\"number\":96,\"recid\":\"\",\"valence\":3,\"volume\":0.0}, Co: {\"atomic_mass\":58.9332008361816,\"entropy\":30.0400009155273,\"heat_capacity\":24.8099994659424,\"name\":\"Co\",\"number\":27,\"recid\":\"\",\"valence\":2,\"volume\":6.61999988555908}, Cr: {\"atomic_mass\":51.9959983825684,\"entropy\":23.7700004577637,\"heat_capacity\":23.3500003814697,\"name\":\"Cr\",\"number\":24,\"recid\":\"\",\"valence\":3,\"volume\":7.23099994659424}, Cs: {\"atomic_mass\":132.905395507812,\"entropy\":85.2300033569336,\"heat_capacity\":32.2099990844727,\"name\":\"Cs\",\"number\":55,\"recid\":\"\",\"valence\":1,\"volume\":69.7300033569336}, Cu: {\"atomic_mass\":63.5460014343262,\"entropy\":33.1500015258789,\"heat_capacity\":24.4400005340576,\"name\":\"Cu\",\"number\":29,\"recid\":\"\",\"valence\":2,\"volume\":7.11299991607666}, Dy: {\"atomic_mass\":162.5,\"entropy\":74.7699966430664,\"heat_capacity\":28.1599998474121,\"name\":\"Dy\",\"number\":66,\"recid\":\"\",\"valence\":3,\"volume\":19.0300006866455}, Er: {\"atomic_mass\":167.259994506836,\"entropy\":73.1800003051758,\"heat_capacity\":28.1200008392334,\"name\":\"Er\",\"number\":68,\"recid\":\"\",\"valence\":3,\"volume\":18.4799995422363}, Eu: {\"atomic_mass\":151.964004516602,\"entropy\":77.7799987792969,\"heat_capacity\":27.6599998474121,\"name\":\"Eu\",\"number\":63,\"recid\":\"\",\"valence\":3,\"volume\":28.8899993896484}, F: {\"atomic_mass\":18.9983997344971,\"entropy\":101.395500183105,\"heat_capacity\":15.6520004272461,\"name\":\"F\",\"number\":9,\"recid\":\"\",\"valence\":-1,\"volume\":12395.0}, Fe: {\"atomic_mass\":55.8450012207031,\"entropy\":27.2800006866455,\"heat_capacity\":24.9610004425049,\"name\":\"Fe\",\"number\":26,\"recid\":\"\",\"valence\":2,\"volume\":7.09200000762939}, Ga: {\"atomic_mass\":69.7199935913086,\"entropy\":40.8800010681152,\"heat_capacity\":25.8600006103516,\"name\":\"Ga\",\"number\":31,\"recid\":\"\",\"valence\":3,\"volume\":11.789999961853}, Gd: {\"atomic_mass\":157.25,\"entropy\":68.0699996948242,\"heat_capacity\":37.0299987792969,\"name\":\"Gd\",\"number\":64,\"recid\":\"\",\"valence\":3,\"volume\":19.8899993896484}, Ge: {\"atomic_mass\":72.5899963378906,\"entropy\":31.0900001525879,\"heat_capacity\":23.2220001220703,\"name\":\"Ge\",\"number\":32,\"recid\":\"\",\"valence\":4,\"volume\":13.6300001144409}, H: {\"atomic_mass\":1.00794994831085,\"entropy\":65.3399963378906,\"heat_capacity\":14.4090003967285,\"name\":\"H\",\"number\":1,\"recid\":\"\",\"valence\":1,\"volume\":12395.0}, He: {\"atomic_mass\":4.00260019302368,\"entropy\":126.15299987793,\"heat_capacity\":20.7859992980957,\"name\":\"He\",\"number\":2,\"recid\":\"\",\"valence\":0,\"volume\":24790.0}, Hf: {\"atomic_mass\":178.490005493164,\"entropy\":43.560001373291,\"heat_capacity\":25.7299995422363,\"name\":\"Hf\",\"number\":72,\"recid\":\"\",\"valence\":4,\"volume\":13.5260000228882}, Hg: {\"atomic_mass\":200.589996337891,\"entropy\":76.0199966430664,\"heat_capacity\":27.9829998016357,\"name\":\"Hg\",\"number\":80,\"recid\":\"\",\"valence\":2,\"volume\":14.826000213623}, Ho: {\"atomic_mass\":164.929992675781,\"entropy\":75.3000030517578,\"heat_capacity\":27.1499996185303,\"name\":\"Ho\",\"number\":67,\"recid\":\"\",\"valence\":3,\"volume\":18.7399997711182}, I: {\"atomic_mass\":126.903999328613,\"entropy\":58.0699996948242,\"heat_capacity\":27.2189998626709,\"name\":\"I\",\"number\":53,\"recid\":\"\",\"valence\":-1,\"volume\":25.7940006256104}, In: {\"atomic_mass\":114.819999694824,\"entropy\":57.8199996948242,\"heat_capacity\":26.7399997711182,\"name\":\"In\",\"number\":49,\"recid\":\"\",\"valence\":3,\"volume\":15.75}, Ir: {\"atomic_mass\":192.199996948242,\"entropy\":35.4799995422363,\"heat_capacity\":25.1000003814697,\"name\":\"Ir\",\"number\":77,\"recid\":\"\",\"valence\":4,\"volume\":8.54199981689453}, K: {\"atomic_mass\":39.0983009338379,\"entropy\":64.6799926757812,\"heat_capacity\":29.6000003814697,\"name\":\"K\",\"number\":19,\"recid\":\"\",\"valence\":1,\"volume\":45.4630012512207}, Kr: {\"atomic_mass\":83.8000030517578,\"entropy\":164.085006713867,\"heat_capacity\":20.7859992980957,\"name\":\"Kr\",\"number\":36,\"recid\":\"\",\"valence\":0,\"volume\":24789.0}, La: {\"atomic_mass\":138.910003662109,\"entropy\":56.9000015258789,\"heat_capacity\":27.1100006103516,\"name\":\"La\",\"number\":57,\"recid\":\"\",\"valence\":3,\"volume\":22.4699993133545}, Li: {\"atomic_mass\":6.94099998474121,\"entropy\":29.1200008392334,\"heat_capacity\":24.8600006103516,\"name\":\"Li\",\"number\":3,\"recid\":\"\",\"valence\":1,\"volume\":13.0959997177124}, Lu: {\"atomic_mass\":174.970001220703,\"entropy\":50.9599990844727,\"heat_capacity\":26.8600006103516,\"name\":\"Lu\",\"number\":71,\"recid\":\"\",\"valence\":3,\"volume\":17.7700004577637}, Mg: {\"atomic_mass\":24.3050003051758,\"entropy\":32.6699981689453,\"heat_capacity\":24.8689994812012,\"name\":\"Mg\",\"number\":12,\"recid\":\"\",\"valence\":2,\"volume\":13.996000289917}, Mn: {\"atomic_mass\":54.9379997253418,\"entropy\":32.0099983215332,\"heat_capacity\":26.3199996948242,\"name\":\"Mn\",\"number\":25,\"recid\":\"\",\"valence\":2,\"volume\":7.39400005340576}, Mo: {\"atomic_mass\":95.9399871826172,\"entropy\":28.6599998474121,\"heat_capacity\":23.8999996185303,\"name\":\"Mo\",\"number\":42,\"recid\":\"\",\"valence\":6,\"volume\":9.39999961853027}, N: {\"atomic_mass\":14.0066995620728,\"entropy\":95.8044967651367,\"heat_capacity\":14.5670003890991,\"name\":\"N\",\"number\":7,\"recid\":\"\",\"valence\":5,\"volume\":12395.0}, Na: {\"atomic_mass\":22.9897994995117,\"entropy\":51.2999992370605,\"heat_capacity\":28.2299995422363,\"name\":\"Na\",\"number\":11,\"recid\":\"\",\"valence\":1,\"volume\":23.7999992370605}, Nb: {\"atomic_mass\":92.9059982299805,\"entropy\":36.4000015258789,\"heat_capacity\":24.6000003814697,\"name\":\"Nb\",\"number\":41,\"recid\":\"\",\"valence\":5,\"volume\":10.8660001754761}, Nd: {\"atomic_mass\":144.240005493164,\"entropy\":71.5,\"heat_capacity\":27.4500007629395,\"name\":\"Nd\",\"number\":60,\"recid\":\"\",\"valence\":3,\"volume\":20.5699996948242}, Ne: {\"atomic_mass\":20.1790008544922,\"entropy\":146.328002929688,\"heat_capacity\":20.7859992980957,\"name\":\"Ne\",\"number\":10,\"recid\":\"\",\"valence\":0,\"volume\":24789.0}, Ni: {\"atomic_mass\":58.693000793457,\"entropy\":29.8700008392334,\"heat_capacity\":26.0699996948242,\"name\":\"Ni\",\"number\":28,\"recid\":\"\",\"valence\":2,\"volume\":6.58900022506714}, Nia|2: {\"atomic_mass\":14.0066995620728,\"entropy\":95.8044967651367,\"heat_capacity\":14.5670003890991,\"name\":\"Nia\",\"number\":7,\"recid\":\"\",\"valence\":0,\"volume\":12395.0}, Nit|2: {\"atomic_mass\":14.0066995620728,\"entropy\":95.8044967651367,\"heat_capacity\":14.5670003890991,\"name\":\"Nit\",\"number\":99,\"recid\":\"\",\"valence\":0,\"volume\":12395.0}, Np: {\"atomic_mass\":237.048202514648,\"entropy\":50.4599990844727,\"heat_capacity\":29.6200008392334,\"name\":\"Np\",\"number\":93,\"recid\":\"\",\"valence\":6,\"volume\":11.5892000198364}, O: {\"atomic_mass\":15.999400138855,\"entropy\":102.569000244141,\"heat_capacity\":14.66100025177,\"name\":\"O\",\"number\":8,\"recid\":\"\",\"valence\":-2,\"volume\":12395.0}, Os: {\"atomic_mass\":190.199996948242,\"entropy\":32.5999984741211,\"heat_capacity\":24.7000007629395,\"name\":\"Os\",\"number\":76,\"recid\":\"\",\"valence\":4,\"volume\":8.42399978637695}, P: {\"atomic_mass\":30.9737606048584,\"entropy\":41.0900001525879,\"heat_capacity\":23.8239994049072,\"name\":\"P\",\"number\":15,\"recid\":\"\",\"valence\":5,\"volume\":17.0200004577637}, Pa: {\"atomic_mass\":231.035903930664,\"entropy\":51.5999984741211,\"heat_capacity\":26.8360004425049,\"name\":\"Pa\",\"number\":91,\"recid\":\"\",\"valence\":5,\"volume\":14.9799995422363}, Pb: {\"atomic_mass\":207.199996948242,\"entropy\":64.8000030517578,\"heat_capacity\":26.6499996185303,\"name\":\"Pb\",\"number\":82,\"recid\":\"\",\"valence\":2,\"volume\":18.1800003051758}, Pd: {\"atomic_mass\":106.419998168945,\"entropy\":37.8199996948242,\"heat_capacity\":25.3400001525879,\"name\":\"Pd\",\"number\":46,\"recid\":\"\",\"valence\":2,\"volume\":8.86200046539307}, Po: {\"atomic_mass\":209.979995727539,\"entropy\":62.7999992370605,\"heat_capacity\":26.3999996185303,\"name\":\"Po\",\"number\":84,\"recid\":\"\",\"valence\":4,\"volume\":23.0}, Pr: {\"atomic_mass\":140.906997680664,\"entropy\":73.1999969482422,\"heat_capacity\":27.2000007629395,\"name\":\"Pr\",\"number\":59,\"recid\":\"\",\"valence\":3,\"volume\":20.8099994659424}, Pt: {\"atomic_mass\":195.089996337891,\"entropy\":41.6300010681152,\"heat_capacity\":25.8600006103516,\"name\":\"Pt\",\"number\":78,\"recid\":\"\",\"valence\":2,\"volume\":9.09099960327148}, Pu: {\"atomic_mass\":244.063995361328,\"entropy\":54.4599990844727,\"heat_capacity\":31.4899997711182,\"name\":\"Pu\",\"number\":94,\"recid\":\"\",\"valence\":6,\"volume\":12.085000038147}, Ra: {\"atomic_mass\":226.024993896484,\"entropy\":71.0,\"heat_capacity\":28.7000007629395,\"name\":\"Ra\",\"number\":88,\"recid\":\"\",\"valence\":2,\"volume\":45.2000007629395}, Rb: {\"atomic_mass\":85.4677963256836,\"entropy\":76.7799987792969,\"heat_capacity\":31.0599994659424,\"name\":\"Rb\",\"number\":37,\"recid\":\"\",\"valence\":1,\"volume\":55.8499984741211}, Re: {\"atomic_mass\":186.199996948242,\"entropy\":36.8600006103516,\"heat_capacity\":25.4799995422363,\"name\":\"Re\",\"number\":75,\"recid\":\"\",\"valence\":4,\"volume\":8.85999965667725}, Rh: {\"atomic_mass\":102.904998779297,\"entropy\":31.5100002288818,\"heat_capacity\":24.9799995422363,\"name\":\"Rh\",\"number\":45,\"recid\":\"\",\"valence\":2,\"volume\":8.2819995880127}, Rn: {\"atomic_mass\":222.0,\"entropy\":176.210006713867,\"heat_capacity\":20.7859992980957,\"name\":\"Rn\",\"number\":86,\"recid\":\"\",\"valence\":0,\"volume\":24789.0}, Ru: {\"atomic_mass\":101.069999694824,\"entropy\":28.5300006866455,\"heat_capacity\":24.0599994659424,\"name\":\"Ru\",\"number\":44,\"recid\":\"\",\"valence\":2,\"volume\":8.17099952697754}, S: {\"atomic_mass\":32.0670013427734,\"entropy\":31.7980003356934,\"heat_capacity\":22.7630004882812,\"name\":\"S\",\"number\":16,\"recid\":\"\",\"valence\":6,\"volume\":15.5100002288818}, Sb: {\"atomic_mass\":121.75,\"entropy\":45.689998626709,\"heat_capacity\":25.2299995422363,\"name\":\"Sb\",\"number\":51,\"recid\":\"\",\"valence\":3,\"volume\":18.2299995422363}, Sc: {\"atomic_mass\":44.9560012817383,\"entropy\":34.6399993896484,\"heat_capacity\":25.5200004577637,\"name\":\"Sc\",\"number\":21,\"recid\":\"\",\"valence\":3,\"volume\":15.039999961853}, Se: {\"atomic_mass\":78.9599990844727,\"entropy\":42.0900001525879,\"heat_capacity\":25.0900001525879,\"name\":\"Se\",\"number\":34,\"recid\":\"\",\"valence\":4,\"volume\":16.4200000762939}, Si: {\"atomic_mass\":28.0855007171631,\"entropy\":18.8099994659424,\"heat_capacity\":19.7889995574951,\"name\":\"Si\",\"number\":14,\"recid\":\"\",\"valence\":4,\"volume\":12.0559997558594}, Sm: {\"atomic_mass\":150.350006103516,\"entropy\":69.5800018310547,\"heat_capacity\":29.5400009155273,\"name\":\"Sm\",\"number\":62,\"recid\":\"\",\"valence\":3,\"volume\":19.9799995422363}, Sn: {\"atomic_mass\":118.710998535156,\"entropy\":51.2120018005371,\"heat_capacity\":26.3519992828369,\"name\":\"Sn\",\"number\":50,\"recid\":\"\",\"valence\":2,\"volume\":16.2900009155273}, Sr: {\"atomic_mass\":87.620002746582,\"entropy\":55.7000007629395,\"heat_capacity\":26.3999996185303,\"name\":\"Sr\",\"number\":38,\"recid\":\"\",\"valence\":2,\"volume\":33.9199981689453}, Ta: {\"atomic_mass\":180.947998046875,\"entropy\":41.5099983215332,\"heat_capacity\":25.3600006103516,\"name\":\"Ta\",\"number\":73,\"recid\":\"\",\"valence\":5,\"volume\":10.8999996185303}, Tb: {\"atomic_mass\":158.92399597168,\"entropy\":73.2200012207031,\"heat_capacity\":28.9099998474121,\"name\":\"Tb\",\"number\":65,\"recid\":\"\",\"valence\":3,\"volume\":19.2199993133545}, Tc: {\"atomic_mass\":97.9069976806641,\"entropy\":32.5,\"heat_capacity\":24.8999996185303,\"name\":\"Tc\",\"number\":43,\"recid\":\"\",\"valence\":7,\"volume\":8.19999980926514}, Te: {\"atomic_mass\":127.599998474121,\"entropy\":49.2220001220703,\"heat_capacity\":25.5645999908447,\"name\":\"Te\",\"number\":52,\"recid\":\"\",\"valence\":6,\"volume\":2.04500007629395}, Th: {\"atomic_mass\":232.038101196289,\"entropy\":51.7999992370605,\"heat_capacity\":26.2299995422363,\"name\":\"Th\",\"number\":90,\"recid\":\"\",\"valence\":4,\"volume\":19.7900009155273}, Ti: {\"atomic_mass\":47.8800010681152,\"entropy\":30.7199993133545,\"heat_capacity\":25.0599994659424,\"name\":\"Ti\",\"number\":22,\"recid\":\"\",\"valence\":4,\"volume\":10.6300001144409}, Tl: {\"atomic_mass\":204.369995117188,\"entropy\":64.1799926757812,\"heat_capacity\":26.3199996948242,\"name\":\"Tl\",\"number\":81,\"recid\":\"\",\"valence\":1,\"volume\":17.2099990844727}, Tm: {\"atomic_mass\":168.934005737305,\"entropy\":74.0100021362305,\"heat_capacity\":27.0300006866455,\"name\":\"Tm\",\"number\":69,\"recid\":\"\",\"valence\":3,\"volume\":18.1299991607666}, U: {\"atomic_mass\":238.028900146484,\"entropy\":50.2000007629395,\"heat_capacity\":27.6599998474121,\"name\":\"U\",\"number\":92,\"recid\":\"\",\"valence\":6,\"volume\":12.4969997406006}, V: {\"atomic_mass\":50.9420013427734,\"entropy\":28.9099998474121,\"heat_capacity\":24.8899993896484,\"name\":\"V\",\"number\":23,\"recid\":\"\",\"valence\":5,\"volume\":8.78299999237061}, Vol|5: {\"atomic_mass\":0.0,\"entropy\":0.0,\"heat_capacity\":0.0,\"name\":\"Vol\",\"number\":100,\"recid\":\"\",\"valence\":0,\"volume\":1.0}, W: {\"atomic_mass\":183.850006103516,\"entropy\":32.6399993896484,\"heat_capacity\":24.25,\"name\":\"W\",\"number\":74,\"recid\":\"\",\"valence\":6,\"volume\":9.52600002288818}, Xe: {\"atomic_mass\":131.289993286133,\"entropy\":169.684997558594,\"heat_capacity\":20.7859992980957,\"name\":\"Xe\",\"number\":54,\"recid\":\"\",\"valence\":0,\"volume\":24789.0}, Y: {\"atomic_mass\":88.9049987792969,\"entropy\":44.4300003051758,\"heat_capacity\":26.5300006866455,\"name\":\"Y\",\"number\":39,\"recid\":\"\",\"valence\":3,\"volume\":15.039999961853}, Yb: {\"atomic_mass\":173.039993286133,\"entropy\":59.8699989318848,\"heat_capacity\":26.7399997711182,\"name\":\"Yb\",\"number\":70,\"recid\":\"\",\"valence\":3,\"volume\":24.8299999237061}, Zn: {\"atomic_mass\":65.379997253418,\"entropy\":41.6300010681152,\"heat_capacity\":25.3899993896484,\"name\":\"Zn\",\"number\":30,\"recid\":\"\",\"valence\":2,\"volume\":9.1569995880127}, Zr: {\"atomic_mass\":91.2239990234375,\"entropy\":39.0800018310547,\"heat_capacity\":26.0799999237061,\"name\":\"Zr\",\"number\":40,\"recid\":\"\",\"valence\":4,\"volume\":14.0500001907349}, Zz|4: {\"atomic_mass\":0.0,\"entropy\":-65.3399963378906,\"heat_capacity\":-14.4180002212524,\"name\":\"Zz\",\"number\":0,\"recid\":\"\",\"valence\":0,\"volume\":0.0}}\n"
     ]
    }
   ],
   "source": [
    "print(\"\")\n",
    "print(elements.elements())\n"
   ]
  },
  {
   "cell_type": "code",
   "execution_count": 7,
   "id": "3ed1364b",
   "metadata": {},
   "outputs": [
    {
     "name": "stdout",
     "output_type": "stream",
     "text": [
      "\n",
      "[Ag, Al, Am, Ar, As, Au, B, Ba, Be, Bi, Br, C, Ca, Cd, Ce, Cl, Cm, Co, Cr, Cs, Cu, Dy, Er, Eu, F, Fe, Ga, Gd, Ge, H, He, Hf, Hg, Ho, I, In, Ir, K, Kr, La, Li, Lu, Mg, Mn, Mo, N, Na, Nb, Nd, Ne, Ni, Nia|2, Nit|2, Np, O, Os, P, Pa, Pb, Pd, Po, Pr, Pt, Pu, Ra, Rb, Re, Rh, Rn, Ru, S, Sb, Sc, Se, Si, Sm, Sn, Sr, Ta, Tb, Tc, Te, Th, Ti, Tl, Tm, U, V, Vol|5, W, Xe, Y, Yb, Zn, Zr, Zz|4]\n"
     ]
    }
   ],
   "source": [
    "print(\"\")\n",
    "print(elements.elementsKeysList())"
   ]
  },
  {
   "cell_type": "code",
   "execution_count": 8,
   "id": "4e3a2a42",
   "metadata": {},
   "outputs": [
    {
     "name": "stdout",
     "output_type": "stream",
     "text": [
      "\n",
      "[{\"element\":{\"symbol\":\"Ag\"},\"properties\":{\"atomic_mass\":107.868202209473,\"entropy\":42.5499992370605,\"heat_capacity\":25.3500003814697,\"name\":\"Ag\",\"number\":47,\"recid\":\"\",\"valence\":1,\"volume\":10.2720003128052}},{\"element\":{\"symbol\":\"Al\"},\"properties\":{\"atomic_mass\":26.9815406799316,\"entropy\":28.2999992370605,\"heat_capacity\":24.2000007629395,\"name\":\"Al\",\"number\":13,\"recid\":\"\",\"valence\":3,\"volume\":9.99300003051758}},{\"element\":{\"symbol\":\"Am\"},\"properties\":{\"atomic_mass\":243.061004638672,\"entropy\":55.4000015258789,\"heat_capacity\":25.5,\"name\":\"Am\",\"number\":95,\"recid\":\"\",\"valence\":3,\"volume\":17.6299991607666}},{\"element\":{\"symbol\":\"Ar\"},\"properties\":{\"atomic_mass\":39.9480018615723,\"entropy\":154.845993041992,\"heat_capacity\":20.7859992980957,\"name\":\"Ar\",\"number\":18,\"recid\":\"\",\"valence\":0,\"volume\":24790.0}},{\"element\":{\"symbol\":\"As\"},\"properties\":{\"atomic_mass\":74.9215927124023,\"entropy\":35.689998626709,\"heat_capacity\":24.6539993286133,\"name\":\"As\",\"number\":33,\"recid\":\"\",\"valence\":5,\"volume\":12.9630002975464}},{\"element\":{\"symbol\":\"Au\"},\"properties\":{\"atomic_mass\":196.966995239258,\"entropy\":47.4000015258789,\"heat_capacity\":25.4179992675781,\"name\":\"Au\",\"number\":79,\"recid\":\"\",\"valence\":1,\"volume\":10.2150001525879}},{\"element\":{\"symbol\":\"B\"},\"properties\":{\"atomic_mass\":10.8120002746582,\"entropy\":5.90000009536743,\"heat_capacity\":11.0869998931885,\"name\":\"B\",\"number\":5,\"recid\":\"\",\"valence\":3,\"volume\":4.38600015640259}},{\"element\":{\"symbol\":\"Ba\"},\"properties\":{\"atomic_mass\":137.328002929688,\"entropy\":62.4199981689453,\"heat_capacity\":28.0699996948242,\"name\":\"Ba\",\"number\":56,\"recid\":\"\",\"valence\":2,\"volume\":39.2400016784668}},{\"element\":{\"symbol\":\"Be\"},\"properties\":{\"atomic_mass\":9.01218032836914,\"entropy\":9.5,\"heat_capacity\":16.443000793457,\"name\":\"Be\",\"number\":4,\"recid\":\"\",\"valence\":2,\"volume\":4.88000011444092}},{\"element\":{\"symbol\":\"Bi\"},\"properties\":{\"atomic_mass\":208.979995727539,\"entropy\":56.7400016784668,\"heat_capacity\":25.5200004577637,\"name\":\"Bi\",\"number\":83,\"recid\":\"\",\"valence\":3,\"volume\":21.3090000152588}},{\"element\":{\"symbol\":\"Br\"},\"properties\":{\"atomic_mass\":79.9039993286133,\"entropy\":76.1050033569336,\"heat_capacity\":37.8450012207031,\"name\":\"Br\",\"number\":35,\"recid\":\"\",\"valence\":-1,\"volume\":27.2900009155273}},{\"element\":{\"symbol\":\"C\"},\"properties\":{\"atomic_mass\":12.0108003616333,\"entropy\":5.73999977111816,\"heat_capacity\":8.68200016021729,\"name\":\"C\",\"number\":6,\"recid\":\"\",\"valence\":4,\"volume\":4.58440017700195}},{\"element\":{\"symbol\":\"Ca\"},\"properties\":{\"atomic_mass\":40.0779991149902,\"entropy\":41.5900001525879,\"heat_capacity\":25.9290008544922,\"name\":\"Ca\",\"number\":20,\"recid\":\"\",\"valence\":2,\"volume\":25.8600006103516}},{\"element\":{\"symbol\":\"Cd\"},\"properties\":{\"atomic_mass\":112.410003662109,\"entropy\":51.7999992370605,\"heat_capacity\":26.0200004577637,\"name\":\"Cd\",\"number\":48,\"recid\":\"\",\"valence\":2,\"volume\":12.9949998855591}},{\"element\":{\"symbol\":\"Ce\"},\"properties\":{\"atomic_mass\":140.119995117188,\"entropy\":72.0,\"heat_capacity\":26.9400005340576,\"name\":\"Ce\",\"number\":58,\"recid\":\"\",\"valence\":3,\"volume\":20.6700000762939}},{\"element\":{\"symbol\":\"Cl\"},\"properties\":{\"atomic_mass\":35.4529991149902,\"entropy\":111.540496826172,\"heat_capacity\":16.9745006561279,\"name\":\"Cl\",\"number\":17,\"recid\":\"\",\"valence\":-1,\"volume\":12395.0}},{\"element\":{\"symbol\":\"Cm\"},\"properties\":{\"atomic_mass\":247.0,\"entropy\":70.8000030517578,\"heat_capacity\":0.0,\"name\":\"Cm\",\"number\":96,\"recid\":\"\",\"valence\":3,\"volume\":0.0}},{\"element\":{\"symbol\":\"Co\"},\"properties\":{\"atomic_mass\":58.9332008361816,\"entropy\":30.0400009155273,\"heat_capacity\":24.8099994659424,\"name\":\"Co\",\"number\":27,\"recid\":\"\",\"valence\":2,\"volume\":6.61999988555908}},{\"element\":{\"symbol\":\"Cr\"},\"properties\":{\"atomic_mass\":51.9959983825684,\"entropy\":23.7700004577637,\"heat_capacity\":23.3500003814697,\"name\":\"Cr\",\"number\":24,\"recid\":\"\",\"valence\":3,\"volume\":7.23099994659424}},{\"element\":{\"symbol\":\"Cs\"},\"properties\":{\"atomic_mass\":132.905395507812,\"entropy\":85.2300033569336,\"heat_capacity\":32.2099990844727,\"name\":\"Cs\",\"number\":55,\"recid\":\"\",\"valence\":1,\"volume\":69.7300033569336}},{\"element\":{\"symbol\":\"Cu\"},\"properties\":{\"atomic_mass\":63.5460014343262,\"entropy\":33.1500015258789,\"heat_capacity\":24.4400005340576,\"name\":\"Cu\",\"number\":29,\"recid\":\"\",\"valence\":2,\"volume\":7.11299991607666}},{\"element\":{\"symbol\":\"Dy\"},\"properties\":{\"atomic_mass\":162.5,\"entropy\":74.7699966430664,\"heat_capacity\":28.1599998474121,\"name\":\"Dy\",\"number\":66,\"recid\":\"\",\"valence\":3,\"volume\":19.0300006866455}},{\"element\":{\"symbol\":\"Er\"},\"properties\":{\"atomic_mass\":167.259994506836,\"entropy\":73.1800003051758,\"heat_capacity\":28.1200008392334,\"name\":\"Er\",\"number\":68,\"recid\":\"\",\"valence\":3,\"volume\":18.4799995422363}},{\"element\":{\"symbol\":\"Eu\"},\"properties\":{\"atomic_mass\":151.964004516602,\"entropy\":77.7799987792969,\"heat_capacity\":27.6599998474121,\"name\":\"Eu\",\"number\":63,\"recid\":\"\",\"valence\":3,\"volume\":28.8899993896484}},{\"element\":{\"symbol\":\"F\"},\"properties\":{\"atomic_mass\":18.9983997344971,\"entropy\":101.395500183105,\"heat_capacity\":15.6520004272461,\"name\":\"F\",\"number\":9,\"recid\":\"\",\"valence\":-1,\"volume\":12395.0}},{\"element\":{\"symbol\":\"Fe\"},\"properties\":{\"atomic_mass\":55.8450012207031,\"entropy\":27.2800006866455,\"heat_capacity\":24.9610004425049,\"name\":\"Fe\",\"number\":26,\"recid\":\"\",\"valence\":2,\"volume\":7.09200000762939}},{\"element\":{\"symbol\":\"Ga\"},\"properties\":{\"atomic_mass\":69.7199935913086,\"entropy\":40.8800010681152,\"heat_capacity\":25.8600006103516,\"name\":\"Ga\",\"number\":31,\"recid\":\"\",\"valence\":3,\"volume\":11.789999961853}},{\"element\":{\"symbol\":\"Gd\"},\"properties\":{\"atomic_mass\":157.25,\"entropy\":68.0699996948242,\"heat_capacity\":37.0299987792969,\"name\":\"Gd\",\"number\":64,\"recid\":\"\",\"valence\":3,\"volume\":19.8899993896484}},{\"element\":{\"symbol\":\"Ge\"},\"properties\":{\"atomic_mass\":72.5899963378906,\"entropy\":31.0900001525879,\"heat_capacity\":23.2220001220703,\"name\":\"Ge\",\"number\":32,\"recid\":\"\",\"valence\":4,\"volume\":13.6300001144409}},{\"element\":{\"symbol\":\"H\"},\"properties\":{\"atomic_mass\":1.00794994831085,\"entropy\":65.3399963378906,\"heat_capacity\":14.4090003967285,\"name\":\"H\",\"number\":1,\"recid\":\"\",\"valence\":1,\"volume\":12395.0}},{\"element\":{\"symbol\":\"He\"},\"properties\":{\"atomic_mass\":4.00260019302368,\"entropy\":126.15299987793,\"heat_capacity\":20.7859992980957,\"name\":\"He\",\"number\":2,\"recid\":\"\",\"valence\":0,\"volume\":24790.0}},{\"element\":{\"symbol\":\"Hf\"},\"properties\":{\"atomic_mass\":178.490005493164,\"entropy\":43.560001373291,\"heat_capacity\":25.7299995422363,\"name\":\"Hf\",\"number\":72,\"recid\":\"\",\"valence\":4,\"volume\":13.5260000228882}},{\"element\":{\"symbol\":\"Hg\"},\"properties\":{\"atomic_mass\":200.589996337891,\"entropy\":76.0199966430664,\"heat_capacity\":27.9829998016357,\"name\":\"Hg\",\"number\":80,\"recid\":\"\",\"valence\":2,\"volume\":14.826000213623}},{\"element\":{\"symbol\":\"Ho\"},\"properties\":{\"atomic_mass\":164.929992675781,\"entropy\":75.3000030517578,\"heat_capacity\":27.1499996185303,\"name\":\"Ho\",\"number\":67,\"recid\":\"\",\"valence\":3,\"volume\":18.7399997711182}},{\"element\":{\"symbol\":\"I\"},\"properties\":{\"atomic_mass\":126.903999328613,\"entropy\":58.0699996948242,\"heat_capacity\":27.2189998626709,\"name\":\"I\",\"number\":53,\"recid\":\"\",\"valence\":-1,\"volume\":25.7940006256104}},{\"element\":{\"symbol\":\"In\"},\"properties\":{\"atomic_mass\":114.819999694824,\"entropy\":57.8199996948242,\"heat_capacity\":26.7399997711182,\"name\":\"In\",\"number\":49,\"recid\":\"\",\"valence\":3,\"volume\":15.75}},{\"element\":{\"symbol\":\"Ir\"},\"properties\":{\"atomic_mass\":192.199996948242,\"entropy\":35.4799995422363,\"heat_capacity\":25.1000003814697,\"name\":\"Ir\",\"number\":77,\"recid\":\"\",\"valence\":4,\"volume\":8.54199981689453}},{\"element\":{\"symbol\":\"K\"},\"properties\":{\"atomic_mass\":39.0983009338379,\"entropy\":64.6799926757812,\"heat_capacity\":29.6000003814697,\"name\":\"K\",\"number\":19,\"recid\":\"\",\"valence\":1,\"volume\":45.4630012512207}},{\"element\":{\"symbol\":\"Kr\"},\"properties\":{\"atomic_mass\":83.8000030517578,\"entropy\":164.085006713867,\"heat_capacity\":20.7859992980957,\"name\":\"Kr\",\"number\":36,\"recid\":\"\",\"valence\":0,\"volume\":24789.0}},{\"element\":{\"symbol\":\"La\"},\"properties\":{\"atomic_mass\":138.910003662109,\"entropy\":56.9000015258789,\"heat_capacity\":27.1100006103516,\"name\":\"La\",\"number\":57,\"recid\":\"\",\"valence\":3,\"volume\":22.4699993133545}},{\"element\":{\"symbol\":\"Li\"},\"properties\":{\"atomic_mass\":6.94099998474121,\"entropy\":29.1200008392334,\"heat_capacity\":24.8600006103516,\"name\":\"Li\",\"number\":3,\"recid\":\"\",\"valence\":1,\"volume\":13.0959997177124}},{\"element\":{\"symbol\":\"Lu\"},\"properties\":{\"atomic_mass\":174.970001220703,\"entropy\":50.9599990844727,\"heat_capacity\":26.8600006103516,\"name\":\"Lu\",\"number\":71,\"recid\":\"\",\"valence\":3,\"volume\":17.7700004577637}},{\"element\":{\"symbol\":\"Mg\"},\"properties\":{\"atomic_mass\":24.3050003051758,\"entropy\":32.6699981689453,\"heat_capacity\":24.8689994812012,\"name\":\"Mg\",\"number\":12,\"recid\":\"\",\"valence\":2,\"volume\":13.996000289917}},{\"element\":{\"symbol\":\"Mn\"},\"properties\":{\"atomic_mass\":54.9379997253418,\"entropy\":32.0099983215332,\"heat_capacity\":26.3199996948242,\"name\":\"Mn\",\"number\":25,\"recid\":\"\",\"valence\":2,\"volume\":7.39400005340576}},{\"element\":{\"symbol\":\"Mo\"},\"properties\":{\"atomic_mass\":95.9399871826172,\"entropy\":28.6599998474121,\"heat_capacity\":23.8999996185303,\"name\":\"Mo\",\"number\":42,\"recid\":\"\",\"valence\":6,\"volume\":9.39999961853027}},{\"element\":{\"symbol\":\"N\"},\"properties\":{\"atomic_mass\":14.0066995620728,\"entropy\":95.8044967651367,\"heat_capacity\":14.5670003890991,\"name\":\"N\",\"number\":7,\"recid\":\"\",\"valence\":5,\"volume\":12395.0}},{\"element\":{\"symbol\":\"Na\"},\"properties\":{\"atomic_mass\":22.9897994995117,\"entropy\":51.2999992370605,\"heat_capacity\":28.2299995422363,\"name\":\"Na\",\"number\":11,\"recid\":\"\",\"valence\":1,\"volume\":23.7999992370605}},{\"element\":{\"symbol\":\"Nb\"},\"properties\":{\"atomic_mass\":92.9059982299805,\"entropy\":36.4000015258789,\"heat_capacity\":24.6000003814697,\"name\":\"Nb\",\"number\":41,\"recid\":\"\",\"valence\":5,\"volume\":10.8660001754761}},{\"element\":{\"symbol\":\"Nd\"},\"properties\":{\"atomic_mass\":144.240005493164,\"entropy\":71.5,\"heat_capacity\":27.4500007629395,\"name\":\"Nd\",\"number\":60,\"recid\":\"\",\"valence\":3,\"volume\":20.5699996948242}},{\"element\":{\"symbol\":\"Ne\"},\"properties\":{\"atomic_mass\":20.1790008544922,\"entropy\":146.328002929688,\"heat_capacity\":20.7859992980957,\"name\":\"Ne\",\"number\":10,\"recid\":\"\",\"valence\":0,\"volume\":24789.0}},{\"element\":{\"symbol\":\"Ni\"},\"properties\":{\"atomic_mass\":58.693000793457,\"entropy\":29.8700008392334,\"heat_capacity\":26.0699996948242,\"name\":\"Ni\",\"number\":28,\"recid\":\"\",\"valence\":2,\"volume\":6.58900022506714}},{\"element\":{\"class_\":2,\"symbol\":\"Nia\"},\"properties\":{\"atomic_mass\":14.0066995620728,\"entropy\":95.8044967651367,\"heat_capacity\":14.5670003890991,\"name\":\"Nia\",\"number\":7,\"recid\":\"\",\"valence\":0,\"volume\":12395.0}},{\"element\":{\"class_\":2,\"symbol\":\"Nit\"},\"properties\":{\"atomic_mass\":14.0066995620728,\"entropy\":95.8044967651367,\"heat_capacity\":14.5670003890991,\"name\":\"Nit\",\"number\":99,\"recid\":\"\",\"valence\":0,\"volume\":12395.0}},{\"element\":{\"symbol\":\"Np\"},\"properties\":{\"atomic_mass\":237.048202514648,\"entropy\":50.4599990844727,\"heat_capacity\":29.6200008392334,\"name\":\"Np\",\"number\":93,\"recid\":\"\",\"valence\":6,\"volume\":11.5892000198364}},{\"element\":{\"symbol\":\"O\"},\"properties\":{\"atomic_mass\":15.999400138855,\"entropy\":102.569000244141,\"heat_capacity\":14.66100025177,\"name\":\"O\",\"number\":8,\"recid\":\"\",\"valence\":-2,\"volume\":12395.0}},{\"element\":{\"symbol\":\"Os\"},\"properties\":{\"atomic_mass\":190.199996948242,\"entropy\":32.5999984741211,\"heat_capacity\":24.7000007629395,\"name\":\"Os\",\"number\":76,\"recid\":\"\",\"valence\":4,\"volume\":8.42399978637695}},{\"element\":{\"symbol\":\"P\"},\"properties\":{\"atomic_mass\":30.9737606048584,\"entropy\":41.0900001525879,\"heat_capacity\":23.8239994049072,\"name\":\"P\",\"number\":15,\"recid\":\"\",\"valence\":5,\"volume\":17.0200004577637}},{\"element\":{\"symbol\":\"Pa\"},\"properties\":{\"atomic_mass\":231.035903930664,\"entropy\":51.5999984741211,\"heat_capacity\":26.8360004425049,\"name\":\"Pa\",\"number\":91,\"recid\":\"\",\"valence\":5,\"volume\":14.9799995422363}},{\"element\":{\"symbol\":\"Pb\"},\"properties\":{\"atomic_mass\":207.199996948242,\"entropy\":64.8000030517578,\"heat_capacity\":26.6499996185303,\"name\":\"Pb\",\"number\":82,\"recid\":\"\",\"valence\":2,\"volume\":18.1800003051758}},{\"element\":{\"symbol\":\"Pd\"},\"properties\":{\"atomic_mass\":106.419998168945,\"entropy\":37.8199996948242,\"heat_capacity\":25.3400001525879,\"name\":\"Pd\",\"number\":46,\"recid\":\"\",\"valence\":2,\"volume\":8.86200046539307}},{\"element\":{\"symbol\":\"Po\"},\"properties\":{\"atomic_mass\":209.979995727539,\"entropy\":62.7999992370605,\"heat_capacity\":26.3999996185303,\"name\":\"Po\",\"number\":84,\"recid\":\"\",\"valence\":4,\"volume\":23.0}},{\"element\":{\"symbol\":\"Pr\"},\"properties\":{\"atomic_mass\":140.906997680664,\"entropy\":73.1999969482422,\"heat_capacity\":27.2000007629395,\"name\":\"Pr\",\"number\":59,\"recid\":\"\",\"valence\":3,\"volume\":20.8099994659424}},{\"element\":{\"symbol\":\"Pt\"},\"properties\":{\"atomic_mass\":195.089996337891,\"entropy\":41.6300010681152,\"heat_capacity\":25.8600006103516,\"name\":\"Pt\",\"number\":78,\"recid\":\"\",\"valence\":2,\"volume\":9.09099960327148}},{\"element\":{\"symbol\":\"Pu\"},\"properties\":{\"atomic_mass\":244.063995361328,\"entropy\":54.4599990844727,\"heat_capacity\":31.4899997711182,\"name\":\"Pu\",\"number\":94,\"recid\":\"\",\"valence\":6,\"volume\":12.085000038147}},{\"element\":{\"symbol\":\"Ra\"},\"properties\":{\"atomic_mass\":226.024993896484,\"entropy\":71.0,\"heat_capacity\":28.7000007629395,\"name\":\"Ra\",\"number\":88,\"recid\":\"\",\"valence\":2,\"volume\":45.2000007629395}},{\"element\":{\"symbol\":\"Rb\"},\"properties\":{\"atomic_mass\":85.4677963256836,\"entropy\":76.7799987792969,\"heat_capacity\":31.0599994659424,\"name\":\"Rb\",\"number\":37,\"recid\":\"\",\"valence\":1,\"volume\":55.8499984741211}},{\"element\":{\"symbol\":\"Re\"},\"properties\":{\"atomic_mass\":186.199996948242,\"entropy\":36.8600006103516,\"heat_capacity\":25.4799995422363,\"name\":\"Re\",\"number\":75,\"recid\":\"\",\"valence\":4,\"volume\":8.85999965667725}},{\"element\":{\"symbol\":\"Rh\"},\"properties\":{\"atomic_mass\":102.904998779297,\"entropy\":31.5100002288818,\"heat_capacity\":24.9799995422363,\"name\":\"Rh\",\"number\":45,\"recid\":\"\",\"valence\":2,\"volume\":8.2819995880127}},{\"element\":{\"symbol\":\"Rn\"},\"properties\":{\"atomic_mass\":222.0,\"entropy\":176.210006713867,\"heat_capacity\":20.7859992980957,\"name\":\"Rn\",\"number\":86,\"recid\":\"\",\"valence\":0,\"volume\":24789.0}},{\"element\":{\"symbol\":\"Ru\"},\"properties\":{\"atomic_mass\":101.069999694824,\"entropy\":28.5300006866455,\"heat_capacity\":24.0599994659424,\"name\":\"Ru\",\"number\":44,\"recid\":\"\",\"valence\":2,\"volume\":8.17099952697754}},{\"element\":{\"symbol\":\"S\"},\"properties\":{\"atomic_mass\":32.0670013427734,\"entropy\":31.7980003356934,\"heat_capacity\":22.7630004882812,\"name\":\"S\",\"number\":16,\"recid\":\"\",\"valence\":6,\"volume\":15.5100002288818}},{\"element\":{\"symbol\":\"Sb\"},\"properties\":{\"atomic_mass\":121.75,\"entropy\":45.689998626709,\"heat_capacity\":25.2299995422363,\"name\":\"Sb\",\"number\":51,\"recid\":\"\",\"valence\":3,\"volume\":18.2299995422363}},{\"element\":{\"symbol\":\"Sc\"},\"properties\":{\"atomic_mass\":44.9560012817383,\"entropy\":34.6399993896484,\"heat_capacity\":25.5200004577637,\"name\":\"Sc\",\"number\":21,\"recid\":\"\",\"valence\":3,\"volume\":15.039999961853}},{\"element\":{\"symbol\":\"Se\"},\"properties\":{\"atomic_mass\":78.9599990844727,\"entropy\":42.0900001525879,\"heat_capacity\":25.0900001525879,\"name\":\"Se\",\"number\":34,\"recid\":\"\",\"valence\":4,\"volume\":16.4200000762939}},{\"element\":{\"symbol\":\"Si\"},\"properties\":{\"atomic_mass\":28.0855007171631,\"entropy\":18.8099994659424,\"heat_capacity\":19.7889995574951,\"name\":\"Si\",\"number\":14,\"recid\":\"\",\"valence\":4,\"volume\":12.0559997558594}},{\"element\":{\"symbol\":\"Sm\"},\"properties\":{\"atomic_mass\":150.350006103516,\"entropy\":69.5800018310547,\"heat_capacity\":29.5400009155273,\"name\":\"Sm\",\"number\":62,\"recid\":\"\",\"valence\":3,\"volume\":19.9799995422363}},{\"element\":{\"symbol\":\"Sn\"},\"properties\":{\"atomic_mass\":118.710998535156,\"entropy\":51.2120018005371,\"heat_capacity\":26.3519992828369,\"name\":\"Sn\",\"number\":50,\"recid\":\"\",\"valence\":2,\"volume\":16.2900009155273}},{\"element\":{\"symbol\":\"Sr\"},\"properties\":{\"atomic_mass\":87.620002746582,\"entropy\":55.7000007629395,\"heat_capacity\":26.3999996185303,\"name\":\"Sr\",\"number\":38,\"recid\":\"\",\"valence\":2,\"volume\":33.9199981689453}},{\"element\":{\"symbol\":\"Ta\"},\"properties\":{\"atomic_mass\":180.947998046875,\"entropy\":41.5099983215332,\"heat_capacity\":25.3600006103516,\"name\":\"Ta\",\"number\":73,\"recid\":\"\",\"valence\":5,\"volume\":10.8999996185303}},{\"element\":{\"symbol\":\"Tb\"},\"properties\":{\"atomic_mass\":158.92399597168,\"entropy\":73.2200012207031,\"heat_capacity\":28.9099998474121,\"name\":\"Tb\",\"number\":65,\"recid\":\"\",\"valence\":3,\"volume\":19.2199993133545}},{\"element\":{\"symbol\":\"Tc\"},\"properties\":{\"atomic_mass\":97.9069976806641,\"entropy\":32.5,\"heat_capacity\":24.8999996185303,\"name\":\"Tc\",\"number\":43,\"recid\":\"\",\"valence\":7,\"volume\":8.19999980926514}},{\"element\":{\"symbol\":\"Te\"},\"properties\":{\"atomic_mass\":127.599998474121,\"entropy\":49.2220001220703,\"heat_capacity\":25.5645999908447,\"name\":\"Te\",\"number\":52,\"recid\":\"\",\"valence\":6,\"volume\":2.04500007629395}},{\"element\":{\"symbol\":\"Th\"},\"properties\":{\"atomic_mass\":232.038101196289,\"entropy\":51.7999992370605,\"heat_capacity\":26.2299995422363,\"name\":\"Th\",\"number\":90,\"recid\":\"\",\"valence\":4,\"volume\":19.7900009155273}},{\"element\":{\"symbol\":\"Ti\"},\"properties\":{\"atomic_mass\":47.8800010681152,\"entropy\":30.7199993133545,\"heat_capacity\":25.0599994659424,\"name\":\"Ti\",\"number\":22,\"recid\":\"\",\"valence\":4,\"volume\":10.6300001144409}},{\"element\":{\"symbol\":\"Tl\"},\"properties\":{\"atomic_mass\":204.369995117188,\"entropy\":64.1799926757812,\"heat_capacity\":26.3199996948242,\"name\":\"Tl\",\"number\":81,\"recid\":\"\",\"valence\":1,\"volume\":17.2099990844727}},{\"element\":{\"symbol\":\"Tm\"},\"properties\":{\"atomic_mass\":168.934005737305,\"entropy\":74.0100021362305,\"heat_capacity\":27.0300006866455,\"name\":\"Tm\",\"number\":69,\"recid\":\"\",\"valence\":3,\"volume\":18.1299991607666}},{\"element\":{\"symbol\":\"U\"},\"properties\":{\"atomic_mass\":238.028900146484,\"entropy\":50.2000007629395,\"heat_capacity\":27.6599998474121,\"name\":\"U\",\"number\":92,\"recid\":\"\",\"valence\":6,\"volume\":12.4969997406006}},{\"element\":{\"symbol\":\"V\"},\"properties\":{\"atomic_mass\":50.9420013427734,\"entropy\":28.9099998474121,\"heat_capacity\":24.8899993896484,\"name\":\"V\",\"number\":23,\"recid\":\"\",\"valence\":5,\"volume\":8.78299999237061}},{\"element\":{\"class_\":5,\"symbol\":\"Vol\"},\"properties\":{\"atomic_mass\":0.0,\"entropy\":0.0,\"heat_capacity\":0.0,\"name\":\"Vol\",\"number\":100,\"recid\":\"\",\"valence\":0,\"volume\":1.0}},{\"element\":{\"symbol\":\"W\"},\"properties\":{\"atomic_mass\":183.850006103516,\"entropy\":32.6399993896484,\"heat_capacity\":24.25,\"name\":\"W\",\"number\":74,\"recid\":\"\",\"valence\":6,\"volume\":9.52600002288818}},{\"element\":{\"symbol\":\"Xe\"},\"properties\":{\"atomic_mass\":131.289993286133,\"entropy\":169.684997558594,\"heat_capacity\":20.7859992980957,\"name\":\"Xe\",\"number\":54,\"recid\":\"\",\"valence\":0,\"volume\":24789.0}},{\"element\":{\"symbol\":\"Y\"},\"properties\":{\"atomic_mass\":88.9049987792969,\"entropy\":44.4300003051758,\"heat_capacity\":26.5300006866455,\"name\":\"Y\",\"number\":39,\"recid\":\"\",\"valence\":3,\"volume\":15.039999961853}},{\"element\":{\"symbol\":\"Yb\"},\"properties\":{\"atomic_mass\":173.039993286133,\"entropy\":59.8699989318848,\"heat_capacity\":26.7399997711182,\"name\":\"Yb\",\"number\":70,\"recid\":\"\",\"valence\":3,\"volume\":24.8299999237061}},{\"element\":{\"symbol\":\"Zn\"},\"properties\":{\"atomic_mass\":65.379997253418,\"entropy\":41.6300010681152,\"heat_capacity\":25.3899993896484,\"name\":\"Zn\",\"number\":30,\"recid\":\"\",\"valence\":2,\"volume\":9.1569995880127}},{\"element\":{\"symbol\":\"Zr\"},\"properties\":{\"atomic_mass\":91.2239990234375,\"entropy\":39.0800018310547,\"heat_capacity\":26.0799999237061,\"name\":\"Zr\",\"number\":40,\"recid\":\"\",\"valence\":4,\"volume\":14.0500001907349}},{\"element\":{\"class_\":4,\"symbol\":\"Zz\"},\"properties\":{\"atomic_mass\":0.0,\"entropy\":-65.3399963378906,\"heat_capacity\":-14.4180002212524,\"name\":\"Zz\",\"number\":0,\"recid\":\"\",\"valence\":0,\"volume\":0.0}}]\n"
     ]
    }
   ],
   "source": [
    "print(\"\")\n",
    "print(elements.writeElements())\n"
   ]
  },
  {
   "cell_type": "code",
   "execution_count": 9,
   "id": "4fea172f",
   "metadata": {},
   "outputs": [
    {
     "name": "stdout",
     "output_type": "stream",
     "text": [
      "\n",
      "symbol,class_,isotope,atomic_mass,entropy,heat_capacity,volume,valence,number\n",
      "Ag,0,0,107.868,42.55,25.35,10.272,1,47\n",
      "Al,0,0,26.9815,28.3,24.2,9.993,3,13\n",
      "Am,0,0,243.061,55.4,25.5,17.63,3,95\n",
      "Ar,0,0,39.948,154.846,20.786,24790,0,18\n",
      "As,0,0,74.9216,35.69,24.654,12.963,5,33\n",
      "Au,0,0,196.967,47.4,25.418,10.215,1,79\n",
      "B,0,0,10.812,5.9,11.087,4.386,3,5\n",
      "Ba,0,0,137.328,62.42,28.07,39.24,2,56\n",
      "Be,0,0,9.01218,9.5,16.443,4.88,2,4\n",
      "Bi,0,0,208.98,56.74,25.52,21.309,3,83\n",
      "Br,0,0,79.904,76.105,37.845,27.29,-1,35\n",
      "C,0,0,12.0108,5.74,8.682,4.5844,4,6\n",
      "Ca,0,0,40.078,41.59,25.929,25.86,2,20\n",
      "Cd,0,0,112.41,51.8,26.02,12.995,2,48\n",
      "Ce,0,0,140.12,72,26.94,20.67,3,58\n",
      "Cl,0,0,35.453,111.54,16.9745,12395,-1,17\n",
      "Cm,0,0,247,70.8,0,0,3,96\n",
      "Co,0,0,58.9332,30.04,24.81,6.62,2,27\n",
      "Cr,0,0,51.996,23.77,23.35,7.231,3,24\n",
      "Cs,0,0,132.905,85.23,32.21,69.73,1,55\n",
      "Cu,0,0,63.546,33.15,24.44,7.113,2,29\n",
      "Dy,0,0,162.5,74.77,28.16,19.03,3,66\n",
      "Er,0,0,167.26,73.18,28.12,18.48,3,68\n",
      "Eu,0,0,151.964,77.78,27.66,28.89,3,63\n",
      "F,0,0,18.9984,101.396,15.652,12395,-1,9\n",
      "Fe,0,0,55.845,27.28,24.961,7.092,2,26\n",
      "Ga,0,0,69.72,40.88,25.86,11.79,3,31\n",
      "Gd,0,0,157.25,68.07,37.03,19.89,3,64\n",
      "Ge,0,0,72.59,31.09,23.222,13.63,4,32\n",
      "H,0,0,1.00795,65.34,14.409,12395,1,1\n",
      "He,0,0,4.0026,126.153,20.786,24790,0,2\n",
      "Hf,0,0,178.49,43.56,25.73,13.526,4,72\n",
      "Hg,0,0,200.59,76.02,27.983,14.826,2,80\n",
      "Ho,0,0,164.93,75.3,27.15,18.74,3,67\n",
      "I,0,0,126.904,58.07,27.219,25.794,-1,53\n",
      "In,0,0,114.82,57.82,26.74,15.75,3,49\n",
      "Ir,0,0,192.2,35.48,25.1,8.542,4,77\n",
      "K,0,0,39.0983,64.68,29.6,45.463,1,19\n",
      "Kr,0,0,83.8,164.085,20.786,24789,0,36\n",
      "La,0,0,138.91,56.9,27.11,22.47,3,57\n",
      "Li,0,0,6.941,29.12,24.86,13.096,1,3\n",
      "Lu,0,0,174.97,50.96,26.86,17.77,3,71\n",
      "Mg,0,0,24.305,32.67,24.869,13.996,2,12\n",
      "Mn,0,0,54.938,32.01,26.32,7.394,2,25\n",
      "Mo,0,0,95.94,28.66,23.9,9.4,6,42\n",
      "N,0,0,14.0067,95.8045,14.567,12395,5,7\n",
      "Na,0,0,22.9898,51.3,28.23,23.8,1,11\n",
      "Nb,0,0,92.906,36.4,24.6,10.866,5,41\n",
      "Nd,0,0,144.24,71.5,27.45,20.57,3,60\n",
      "Ne,0,0,20.179,146.328,20.786,24789,0,10\n",
      "Ni,0,0,58.693,29.87,26.07,6.589,2,28\n",
      "Nia,2,0,14.0067,95.8045,14.567,12395,0,7\n",
      "Nit,2,0,14.0067,95.8045,14.567,12395,0,99\n",
      "Np,0,0,237.048,50.46,29.62,11.5892,6,93\n",
      "O,0,0,15.9994,102.569,14.661,12395,-2,8\n",
      "Os,0,0,190.2,32.6,24.7,8.424,4,76\n",
      "P,0,0,30.9738,41.09,23.824,17.02,5,15\n",
      "Pa,0,0,231.036,51.6,26.836,14.98,5,91\n",
      "Pb,0,0,207.2,64.8,26.65,18.18,2,82\n",
      "Pd,0,0,106.42,37.82,25.34,8.862,2,46\n",
      "Po,0,0,209.98,62.8,26.4,23,4,84\n",
      "Pr,0,0,140.907,73.2,27.2,20.81,3,59\n",
      "Pt,0,0,195.09,41.63,25.86,9.091,2,78\n",
      "Pu,0,0,244.064,54.46,31.49,12.085,6,94\n",
      "Ra,0,0,226.025,71,28.7,45.2,2,88\n",
      "Rb,0,0,85.4678,76.78,31.06,55.85,1,37\n",
      "Re,0,0,186.2,36.86,25.48,8.86,4,75\n",
      "Rh,0,0,102.905,31.51,24.98,8.282,2,45\n",
      "Rn,0,0,222,176.21,20.786,24789,0,86\n",
      "Ru,0,0,101.07,28.53,24.06,8.171,2,44\n",
      "S,0,0,32.067,31.798,22.763,15.51,6,16\n",
      "Sb,0,0,121.75,45.69,25.23,18.23,3,51\n",
      "Sc,0,0,44.956,34.64,25.52,15.04,3,21\n",
      "Se,0,0,78.96,42.09,25.09,16.42,4,34\n",
      "Si,0,0,28.0855,18.81,19.789,12.056,4,14\n",
      "Sm,0,0,150.35,69.58,29.54,19.98,3,62\n",
      "Sn,0,0,118.711,51.212,26.352,16.29,2,50\n",
      "Sr,0,0,87.62,55.7,26.4,33.92,2,38\n",
      "Ta,0,0,180.948,41.51,25.36,10.9,5,73\n",
      "Tb,0,0,158.924,73.22,28.91,19.22,3,65\n",
      "Tc,0,0,97.907,32.5,24.9,8.2,7,43\n",
      "Te,0,0,127.6,49.222,25.5646,2.045,6,52\n",
      "Th,0,0,232.038,51.8,26.23,19.79,4,90\n",
      "Ti,0,0,47.88,30.72,25.06,10.63,4,22\n",
      "Tl,0,0,204.37,64.18,26.32,17.21,1,81\n",
      "Tm,0,0,168.934,74.01,27.03,18.13,3,69\n",
      "U,0,0,238.029,50.2,27.66,12.497,6,92\n",
      "V,0,0,50.942,28.91,24.89,8.783,5,23\n",
      "Vol,5,0,0,0,0,1,0,100\n",
      "W,0,0,183.85,32.64,24.25,9.526,6,74\n",
      "Xe,0,0,131.29,169.685,20.786,24789,0,54\n",
      "Y,0,0,88.905,44.43,26.53,15.04,3,39\n",
      "Yb,0,0,173.04,59.87,26.74,24.83,3,70\n",
      "Zn,0,0,65.38,41.63,25.39,9.157,2,30\n",
      "Zr,0,0,91.224,39.08,26.08,14.05,4,40\n",
      "Zz,4,0,0,-65.34,-14.418,0,0,0\n",
      "\n"
     ]
    }
   ],
   "source": [
    "print(\"\")\n",
    "print(elements.CSV())\n"
   ]
  },
  {
   "cell_type": "code",
   "execution_count": 10,
   "id": "d11732e7",
   "metadata": {},
   "outputs": [
    {
     "data": {
      "text/plain": [
       "chemicalfun.PyChemicalFun.DBElements"
      ]
     },
     "execution_count": 10,
     "metadata": {},
     "output_type": "execute_result"
    }
   ],
   "source": [
    "formulas = [\"Al(OH)2+\", \"CaCO3\"]\n",
    "type(elements)"
   ]
  },
  {
   "cell_type": "code",
   "execution_count": 11,
   "id": "7000ddb4",
   "metadata": {},
   "outputs": [
    {
     "data": {
      "text/plain": [
       "[{\"atomic_mass\":60.996240854263306,\"atoms_formula_unit\":6.0,\"charge\":1.0,\"elemental_entropy\":298.7779960632331,\"formula\":\"Al(OH)2+\"},\n",
       " {\"atomic_mass\":100.0869998931885,\"atoms_formula_unit\":5.0,\"charge\":0.0,\"elemental_entropy\":355.03700065612907,\"formula\":\"CaCO3\"}]"
      ]
     },
     "execution_count": 11,
     "metadata": {},
     "output_type": "execute_result"
    }
   ],
   "source": [
    "elements.formulasProperties(formulas)"
   ]
  },
  {
   "cell_type": "code",
   "execution_count": 12,
   "id": "d77bf172",
   "metadata": {},
   "outputs": [
    {
     "name": "stdout",
     "output_type": "stream",
     "text": [
      "formula,charge,atomic_mass,elemental_entropy,atoms_formula\n",
      "Al(OH)2+,1,60.9962,298.778,6\n",
      "CaCO3,0,100.087,355.037,5\n",
      "\n"
     ]
    }
   ],
   "source": [
    "print(elements.formulasPropertiesCSV( formulas))"
   ]
  },
  {
   "cell_type": "code",
   "execution_count": 13,
   "id": "595910e3",
   "metadata": {},
   "outputs": [
    {
     "data": {
      "text/plain": [
       "[[1.0, 0.0, 0.0, 2.0, 2.0, 1.0], [0.0, 1.0, 1.0, 0.0, 3.0, 0.0]]"
      ]
     },
     "execution_count": 13,
     "metadata": {},
     "output_type": "execute_result"
    }
   ],
   "source": [
    "cf.substancesStoichiometryMatrix(formulas)"
   ]
  },
  {
   "cell_type": "code",
   "execution_count": 14,
   "id": "a43a4e25",
   "metadata": {},
   "outputs": [
    {
     "name": "stdout",
     "output_type": "stream",
     "text": [
      "formula,Ag,Al,Am,Ar,As,Au,B,Ba,Be,Bi,Br,C,Ca,Cd,Ce,Cl,Cm,Co,Cr,Cs,Cu,Dy,Er,Eu,F,Fe,Ga,Gd,Ge,H,He,Hf,Hg,Ho,I,In,Ir,K,Kr,La,Li,Lu,Mg,Mn,Mo,N,Na,Nb,Nd,Ne,Ni,Nia,Nit,Np,O,Os,P,Pa,Pb,Pd,Po,Pr,Pt,Pu,Ra,Rb,Re,Rh,Rn,Ru,S,Sb,Sc,Se,Si,Sm,Sn,Sr,Ta,Tb,Tc,Te,Th,Ti,Tl,Tm,U,V,Vol,W,Xe,Y,Yb,Zn,Zr,Zz,\n",
      "Al(OH)2+,0,1,0,0,0,0,0,0,0,0,0,0,0,0,0,0,0,0,0,0,0,0,0,0,0,0,0,0,0,2,0,0,0,0,0,0,0,0,0,0,0,0,0,0,0,0,0,0,0,0,0,0,0,0,2,0,0,0,0,0,0,0,0,0,0,0,0,0,0,0,0,0,0,0,0,0,0,0,0,0,0,0,0,0,0,0,0,0,0,0,0,0,0,0,0,1,\n",
      "CaCO3,0,0,0,0,0,0,0,0,0,0,0,1,1,0,0,0,0,0,0,0,0,0,0,0,0,0,0,0,0,0,0,0,0,0,0,0,0,0,0,0,0,0,0,0,0,0,0,0,0,0,0,0,0,0,3,0,0,0,0,0,0,0,0,0,0,0,0,0,0,0,0,0,0,0,0,0,0,0,0,0,0,0,0,0,0,0,0,0,0,0,0,0,0,0,0,0,\n",
      "\n"
     ]
    }
   ],
   "source": [
    "print(elements.stoichiometryMatrixCSV(formulas))"
   ]
  },
  {
   "cell_type": "code",
   "execution_count": 15,
   "id": "3d5394cc",
   "metadata": {},
   "outputs": [],
   "source": [
    "formula_list = [\n",
    "    \"H2O\",\n",
    "    \"H2O@\",\n",
    "    \"H+\",\n",
    "    \"OH-\",\n",
    "    \"H|0|2\",\n",
    "    \"O|0|2\",\n",
    "    \"HOO|0|-\",\n",
    "    \"Fe|2|Fe|3|3O4\"\n",
    "]"
   ]
  },
  {
   "cell_type": "code",
   "execution_count": 16,
   "id": "4709c8c6",
   "metadata": {},
   "outputs": [
    {
     "name": "stdout",
     "output_type": "stream",
     "text": [
      "[Fe(2), Fe(3), H(0), H(1), O(-2), O(0), Zz(0)|4]\n",
      "[[0.0, 0.0, 0.0, 2.0, 1.0, 0.0, 0.0], [0.0, 0.0, 0.0, 2.0, 1.0, 0.0, 0.0], [0.0, 0.0, 0.0, 1.0, 0.0, 0.0, 1.0], [0.0, 0.0, 0.0, 1.0, 1.0, 0.0, -1.0], [0.0, 0.0, 2.0, 0.0, 0.0, 0.0, 0.0], [0.0, 0.0, 0.0, 0.0, 0.0, 2.0, 0.0], [0.0, 0.0, 0.0, 1.0, 1.0, 1.0, -1.0], [1.0, 3.0, 0.0, 0.0, 4.0, 0.0, 0.0]]\n"
     ]
    }
   ],
   "source": [
    "elements_ = cf.elementsInFormulas(formula_list, valence=True);\n",
    "print(elements_)\n",
    "print(cf.substancesStoichiometryMatrix(formula_list, valence=True))\n"
   ]
  },
  {
   "cell_type": "code",
   "execution_count": 17,
   "id": "22dded71",
   "metadata": {},
   "outputs": [],
   "source": [
    "symbols = [\n",
    "    \"e-\",\n",
    "\"Ca+2\",\n",
    "\"Fe+2\",\n",
    "\"Fe+3\",\n",
    "\"H+\",\n",
    "\"OH-\",\n",
    "\"SO4-2\",\n",
    "\"Ca(SO4)@\",\n",
    "\"CaOH+\",\n",
    "\"FeO@\",\n",
    "\"FeO+\",\n",
    "\"FeO2-\",\n",
    "\"FeO2H-\",\n",
    "\"FeO2H@\",\n",
    "\"FeOH+\",\n",
    "\"FeOH+2\",\n",
    "#\"H2@\",\n",
    "\"H2O@\",\n",
    "#\"O2@\",\n",
    "\"Po\",\n",
    "\"Py\",\n",
    "\"S2\",\n",
    "\"SO2\"]\n",
    "\n",
    "formulas = [\n",
    "    \"Zz\",\n",
    "\"Ca+2\",\n",
    "\"Fe+2\",\n",
    "\"Fe|3|+3\",\n",
    "\"H+\",\n",
    "\"OH-\",\n",
    "\"SO4-2\",\n",
    "\"CaSO4@\",\n",
    "\"CaOH+\",\n",
    "\"FeO@\",\n",
    "\"Fe|3|O+\",\n",
    "\"Fe|3|O2-\",\n",
    "\"HFeO2-\",\n",
    "\"HFe|3|O2@\",\n",
    "\"FeOH+\",\n",
    "\"Fe|3|OH+2\",\n",
    "#\"H|0|2@\",\n",
    "\"H2O@\",\n",
    "#\"O|0|2@\",\n",
    "\"FeS|-2|\",\n",
    "\"FeS|0|S|-2|\",\n",
    "\"S|0|2\",\n",
    "\"S|4|O2\"]"
   ]
  },
  {
   "cell_type": "code",
   "execution_count": 18,
   "id": "d97e117f",
   "metadata": {},
   "outputs": [],
   "source": [
    "reactions = cf.ChemicalReactions(formulas, symbols)"
   ]
  },
  {
   "cell_type": "code",
   "execution_count": 19,
   "id": "45724af0",
   "metadata": {},
   "outputs": [
    {
     "data": {
      "text/plain": [
       "array([[ 0.,  1.,  0.,  0.,  0.,  0.,  0.,  1.,  1.,  0.,  0.,  0.,  0.,\n",
       "         0.,  0.,  0.,  0.,  0.,  0.,  0.,  0.],\n",
       "       [ 0.,  0.,  1.,  1.,  0.,  0.,  0.,  0.,  0.,  1.,  1.,  1.,  1.,\n",
       "         1.,  1.,  1.,  0.,  1.,  1.,  0.,  0.],\n",
       "       [ 0.,  0.,  0.,  0.,  1.,  1.,  0.,  0.,  1.,  0.,  0.,  0.,  1.,\n",
       "         1.,  1.,  1.,  2.,  0.,  0.,  0.,  0.],\n",
       "       [ 0.,  0.,  0.,  0.,  0.,  1.,  4.,  4.,  1.,  1.,  1.,  2.,  2.,\n",
       "         2.,  1.,  1.,  1.,  0.,  0.,  0.,  2.],\n",
       "       [ 0.,  0.,  0.,  0.,  0.,  0.,  1.,  1.,  0.,  0.,  0.,  0.,  0.,\n",
       "         0.,  0.,  0.,  0.,  1.,  2.,  2.,  1.],\n",
       "       [ 1.,  2.,  2.,  3.,  1., -1., -2.,  0.,  1.,  0.,  1., -1., -1.,\n",
       "         0.,  1.,  2.,  0.,  0.,  0.,  0.,  0.]])"
      ]
     },
     "execution_count": 19,
     "metadata": {},
     "output_type": "execute_result"
    }
   ],
   "source": [
    "reactions.formulaMatrix()"
   ]
  },
  {
   "cell_type": "code",
   "execution_count": 20,
   "id": "b4158aea",
   "metadata": {},
   "outputs": [
    {
     "data": {
      "text/plain": [
       "array([[-1., -0., -0., -0., -1., -1., -0., -1., -0., -1., -0.,  8., 14.,\n",
       "        12.,  2.],\n",
       "       [-0., -1., -1., -0., -0., -0., -0., -0., -0., -0., -0., -0., -0.,\n",
       "        -0., -0.],\n",
       "       [-1., -0., -0., -1., -1., -1., -1., -1., -1., -1., -0., -1., -1.,\n",
       "        -0., -0.],\n",
       "       [-0., -0., -0.,  1.,  1.,  2.,  1.,  1., -0., -0., -1., -4., -8.,\n",
       "        -8., -2.],\n",
       "       [-0., -0., -1., -1., -1., -2., -2., -2., -1., -1., -1.,  4.,  8.,\n",
       "         8.,  2.],\n",
       "       [-0., -1., -0., -0., -0., -0., -0., -0., -0., -0., -0., -1., -2.,\n",
       "        -2., -1.],\n",
       "       [ 1., -0., -0., -0., -0., -0., -0., -0., -0., -0., -0., -0., -0.,\n",
       "        -0., -0.],\n",
       "       [-0.,  1., -0., -0., -0., -0., -0., -0., -0., -0., -0., -0., -0.,\n",
       "        -0., -0.],\n",
       "       [-0., -0.,  1., -0., -0., -0., -0., -0., -0., -0., -0., -0., -0.,\n",
       "        -0., -0.],\n",
       "       [-0., -0., -0.,  1., -0., -0., -0., -0., -0., -0., -0., -0., -0.,\n",
       "        -0., -0.],\n",
       "       [-0., -0., -0., -0.,  1., -0., -0., -0., -0., -0., -0., -0., -0.,\n",
       "        -0., -0.],\n",
       "       [-0., -0., -0., -0., -0.,  1., -0., -0., -0., -0., -0., -0., -0.,\n",
       "        -0., -0.],\n",
       "       [-0., -0., -0., -0., -0., -0.,  1., -0., -0., -0., -0., -0., -0.,\n",
       "        -0., -0.],\n",
       "       [-0., -0., -0., -0., -0., -0., -0.,  1., -0., -0., -0., -0., -0.,\n",
       "        -0., -0.],\n",
       "       [-0., -0., -0., -0., -0., -0., -0., -0.,  1., -0., -0., -0., -0.,\n",
       "        -0., -0.],\n",
       "       [-0., -0., -0., -0., -0., -0., -0., -0., -0.,  1., -0., -0., -0.,\n",
       "        -0., -0.],\n",
       "       [-0., -0., -0., -0., -0., -0., -0., -0., -0., -0.,  1., -0., -0.,\n",
       "        -0., -0.],\n",
       "       [-0., -0., -0., -0., -0., -0., -0., -0., -0., -0., -0.,  1., -0.,\n",
       "        -0., -0.],\n",
       "       [-0., -0., -0., -0., -0., -0., -0., -0., -0., -0., -0., -0.,  1.,\n",
       "        -0., -0.],\n",
       "       [-0., -0., -0., -0., -0., -0., -0., -0., -0., -0., -0., -0., -0.,\n",
       "         1., -0.],\n",
       "       [-0., -0., -0., -0., -0., -0., -0., -0., -0., -0., -0., -0., -0.,\n",
       "        -0.,  1.]])"
      ]
     },
     "execution_count": 20,
     "metadata": {},
     "output_type": "execute_result"
    }
   ],
   "source": [
    "reac = reactions.generateReactions(formation=True)\n",
    "reactions.reactionsMatrix()"
   ]
  },
  {
   "cell_type": "code",
   "execution_count": 21,
   "id": "42732f34",
   "metadata": {},
   "outputs": [
    {
     "data": {
      "text/plain": [
       "[[('e-', -1.0), ('Fe+2', -1.0), ('Fe+3', 1.0)],\n",
       " [('Ca+2', -1.0), ('SO4-2', -1.0), ('Ca(SO4)@', 1.0)],\n",
       " [('Ca+2', -1.0), ('OH-', -1.0), ('CaOH+', 1.0)],\n",
       " [('Fe+2', -1.0), ('H+', 1.0), ('OH-', -1.0), ('FeO@', 1.0)],\n",
       " [('e-', -1.0), ('Fe+2', -1.0), ('H+', 1.0), ('OH-', -1.0), ('FeO+', 1.0)],\n",
       " [('e-', -1.0), ('Fe+2', -1.0), ('H+', 2.0), ('OH-', -2.0), ('FeO2-', 1.0)],\n",
       " [('Fe+2', -1.0), ('H+', 1.0), ('OH-', -2.0), ('FeO2H-', 1.0)],\n",
       " [('e-', -1.0), ('Fe+2', -1.0), ('H+', 1.0), ('OH-', -2.0), ('FeO2H@', 1.0)],\n",
       " [('Fe+2', -1.0), ('OH-', -1.0), ('FeOH+', 1.0)],\n",
       " [('e-', -1.0), ('Fe+2', -1.0), ('OH-', -1.0), ('FeOH+2', 1.0)],\n",
       " [('H+', -1.0), ('OH-', -1.0), ('H2O@', 1.0)],\n",
       " [('e-', 8.0),\n",
       "  ('Fe+2', -1.0),\n",
       "  ('H+', -4.0),\n",
       "  ('OH-', 4.0),\n",
       "  ('SO4-2', -1.0),\n",
       "  ('Po', 1.0)],\n",
       " [('e-', 14.0),\n",
       "  ('Fe+2', -1.0),\n",
       "  ('H+', -8.0),\n",
       "  ('OH-', 8.0),\n",
       "  ('SO4-2', -2.0),\n",
       "  ('Py', 1.0)],\n",
       " [('e-', 12.0), ('H+', -8.0), ('OH-', 8.0), ('SO4-2', -2.0), ('S2', 1.0)],\n",
       " [('e-', 2.0), ('H+', -2.0), ('OH-', 2.0), ('SO4-2', -1.0), ('SO2', 1.0)]]"
      ]
     },
     "execution_count": 21,
     "metadata": {},
     "output_type": "execute_result"
    }
   ],
   "source": [
    "reac"
   ]
  },
  {
   "cell_type": "code",
   "execution_count": 22,
   "id": "bfd6c464",
   "metadata": {},
   "outputs": [
    {
     "data": {
      "text/plain": [
       "[{'e-': -1.0, 'Fe+2': -1.0, 'Fe+3': 1.0},\n",
       " {'Ca+2': -1.0, 'SO4-2': -1.0, 'Ca(SO4)@': 1.0},\n",
       " {'Ca+2': -1.0, 'OH-': -1.0, 'CaOH+': 1.0},\n",
       " {'Fe+2': -1.0, 'H+': 1.0, 'OH-': -1.0, 'FeO@': 1.0},\n",
       " {'e-': -1.0, 'Fe+2': -1.0, 'H+': 1.0, 'OH-': -1.0, 'FeO+': 1.0},\n",
       " {'e-': -1.0, 'Fe+2': -1.0, 'H+': 2.0, 'OH-': -2.0, 'FeO2-': 1.0},\n",
       " {'Fe+2': -1.0, 'H+': 1.0, 'OH-': -2.0, 'FeO2H-': 1.0},\n",
       " {'e-': -1.0, 'Fe+2': -1.0, 'H+': 1.0, 'OH-': -2.0, 'FeO2H@': 1.0},\n",
       " {'Fe+2': -1.0, 'OH-': -1.0, 'FeOH+': 1.0},\n",
       " {'e-': -1.0, 'Fe+2': -1.0, 'OH-': -1.0, 'FeOH+2': 1.0},\n",
       " {'H+': -1.0, 'OH-': -1.0, 'H2O@': 1.0},\n",
       " {'e-': 8.0, 'Fe+2': -1.0, 'H+': -4.0, 'OH-': 4.0, 'SO4-2': -1.0, 'Po': 1.0},\n",
       " {'e-': 14.0, 'Fe+2': -1.0, 'H+': -8.0, 'OH-': 8.0, 'SO4-2': -2.0, 'Py': 1.0},\n",
       " {'e-': 12.0, 'H+': -8.0, 'OH-': 8.0, 'SO4-2': -2.0, 'S2': 1.0},\n",
       " {'e-': 2.0, 'H+': -2.0, 'OH-': 2.0, 'SO4-2': -1.0, 'SO2': 1.0}]"
      ]
     },
     "execution_count": 22,
     "metadata": {},
     "output_type": "execute_result"
    }
   ],
   "source": [
    "[{el[0]: el[1] for el in r} for r in reac]"
   ]
  },
  {
   "cell_type": "code",
   "execution_count": 23,
   "id": "0d0b04d2",
   "metadata": {},
   "outputs": [
    {
     "data": {
      "text/plain": [
       "({'reactants': [], 'coefficients': []},)"
      ]
     },
     "execution_count": 23,
     "metadata": {},
     "output_type": "execute_result"
    }
   ],
   "source": [
    "{'reactants': [], 'coefficients': []},\n",
    "\n"
   ]
  },
  {
   "cell_type": "code",
   "execution_count": 24,
   "id": "98a8cda5",
   "metadata": {},
   "outputs": [
    {
     "name": "stdout",
     "output_type": "stream",
     "text": [
      "Fe+2 + e- = Fe+3\n",
      "SO4-2 + Ca+2 = Ca(SO4)@\n",
      "OH- + Ca+2 = CaOH+\n",
      "OH- + Fe+2 = FeO@ + H+\n",
      "OH- + Fe+2 + e- = FeO+ + H+\n",
      "2OH- + Fe+2 + e- = FeO2- + 2H+\n",
      "2OH- + Fe+2 = FeO2H- + H+\n",
      "2OH- + Fe+2 + e- = FeO2H@ + H+\n",
      "OH- + Fe+2 = FeOH+\n",
      "OH- + Fe+2 + e- = FeOH+2\n",
      "OH- + H+ = H2O@\n",
      "SO4-2 + 4H+ + Fe+2 = Po + 4OH- + 8e-\n",
      "2SO4-2 + 8H+ + Fe+2 = Py + 8OH- + 14e-\n",
      "2SO4-2 + 8H+ = S2 + 8OH- + 12e-\n",
      "SO4-2 + 2H+ = SO2 + 2OH- + 2e-\n",
      "\n"
     ]
    }
   ],
   "source": [
    "print(reactions.printReactions())"
   ]
  },
  {
   "cell_type": "code",
   "execution_count": 25,
   "id": "b8b8fa60",
   "metadata": {},
   "outputs": [
    {
     "data": {
      "text/plain": [
       "['e- + Fe+2 = Fe+3',\n",
       " 'Ca+2 + SO4-2 = Ca(SO4)@',\n",
       " 'Ca+2 + OH- = CaOH+',\n",
       " 'Fe+2 + OH- = H+ + FeO@',\n",
       " 'e- + Fe+2 + OH- = H+ + FeO+',\n",
       " 'e- + Fe+2 + 2OH- = 2H+ + FeO2-',\n",
       " 'Fe+2 + 2OH- = H+ + FeO2H-',\n",
       " 'e- + Fe+2 + 2OH- = H+ + FeO2H@',\n",
       " 'Fe+2 + OH- = FeOH+',\n",
       " 'e- + Fe+2 + OH- = FeOH+2',\n",
       " 'H+ + OH- = H2O@',\n",
       " 'Fe+2 + 4H+ + SO4-2 = 8e- + 4OH- + Po',\n",
       " 'Fe+2 + 8H+ + 2SO4-2 = 14e- + 8OH- + Py',\n",
       " '8H+ + 2SO4-2 = 12e- + 8OH- + S2',\n",
       " '2H+ + SO4-2 = 2e- + 2OH- + SO2']"
      ]
     },
     "execution_count": 25,
     "metadata": {},
     "output_type": "execute_result"
    }
   ],
   "source": [
    "strReac = reactions.stringReactions(True)\n",
    "strReac"
   ]
  },
  {
   "cell_type": "code",
   "execution_count": 26,
   "id": "10af6977",
   "metadata": {},
   "outputs": [
    {
     "data": {
      "text/plain": [
       "['e-', 'Ca+2', 'Fe+2', 'H+', 'OH-', 'SO4-2']"
      ]
     },
     "execution_count": 26,
     "metadata": {},
     "output_type": "execute_result"
    }
   ],
   "source": [
    "reactions.masterSubstances()"
   ]
  },
  {
   "cell_type": "code",
   "execution_count": 27,
   "id": "3c1c131d",
   "metadata": {},
   "outputs": [
    {
     "data": {
      "text/plain": [
       "['Fe+3',\n",
       " 'Ca(SO4)@',\n",
       " 'CaOH+',\n",
       " 'FeO@',\n",
       " 'FeO+',\n",
       " 'FeO2-',\n",
       " 'FeO2H-',\n",
       " 'FeO2H@',\n",
       " 'FeOH+',\n",
       " 'FeOH+2',\n",
       " 'H2O@',\n",
       " 'Po',\n",
       " 'Py',\n",
       " 'S2',\n",
       " 'SO2']"
      ]
     },
     "execution_count": 27,
     "metadata": {},
     "output_type": "execute_result"
    }
   ],
   "source": [
    "reactions.dependentSubstances()"
   ]
  },
  {
   "cell_type": "code",
   "execution_count": 71,
   "id": "81ef05ea",
   "metadata": {},
   "outputs": [
    {
     "name": "stdout",
     "output_type": "stream",
     "text": [
      "H+ + OH- = H2O\n",
      "HCO3- + OH- = H2O + CO3-2\n",
      "CaCO3 = CO3-2 + Ca+2\n",
      "\n",
      "master: ['Ca+2', 'CO3-2', 'H2O', 'OH-']\n"
     ]
    },
    {
     "data": {
      "text/plain": [
       "[{'H2O': 1.0, 'OH-': -1.0, 'H+': -1.0},\n",
       " {'CO3-2': 1.0, 'H2O': 1.0, 'OH-': -1.0, 'HCO3-': -1.0},\n",
       " {'Ca+2': 1.0, 'CO3-2': 1.0, 'CaCO3': -1.0}]"
      ]
     },
     "execution_count": 71,
     "metadata": {},
     "output_type": "execute_result"
    }
   ],
   "source": [
    "formulas = ['Ca+2', 'CO3-2', 'H2O', 'OH-', 'H+', 'HCO3-', 'CaCO3' ]\n",
    "#symbols = ['Ca+2', 'CO3-2', 'H+', 'OH-', 'HCO3-', 'Calcite',  'water']\n",
    "\n",
    "chemicalReactions = cf.ChemicalReactions(formulas)\n",
    "\n",
    "reactions = chemicalReactions.generateReactions()\n",
    "reactions_dic = [{el[0]: el[1] for el in r} for r in reactions] \n",
    "#print(reactions)\n",
    "\n",
    "print(chemicalReactions.printReactions())\n",
    "print(f'master: {chemicalReactions.masterSubstances()}')\n",
    "reactions_dic"
   ]
  },
  {
   "cell_type": "code",
   "execution_count": 29,
   "id": "a61c5846",
   "metadata": {},
   "outputs": [
    {
     "name": "stdout",
     "output_type": "stream",
     "text": [
      "H2O = H+ + OH-\n",
      "H2O + CO3-2 = HCO3- + OH-\n",
      "CO3-2 + Ca+2 = CaCO3\n",
      "\n",
      "master: ['Ca+2', 'CO3-2', 'H2O', 'OH-']\n",
      "dependent: ['H+', 'HCO3-', 'CaCO3']\n"
     ]
    }
   ],
   "source": [
    "formulas = ['Ca+2', 'CO3-2', 'H2O', 'OH-', 'H+', 'HCO3-', 'CaCO3' ] # 'H2O' and 'OH-' are in front of 'H+' and will be set as masater \n",
    "\n",
    "chemicalReactions = cf.ChemicalReactions(formulas)\n",
    "\n",
    "reactions = chemicalReactions.generateReactions(formation=True) \n",
    "\n",
    "print(chemicalReactions.printReactions())\n",
    "print(f'master: {chemicalReactions.masterSubstances()}')\n",
    "print(f'dependent: {chemicalReactions.dependentSubstances()}')"
   ]
  },
  {
   "cell_type": "code",
   "execution_count": 68,
   "id": "e358081e",
   "metadata": {},
   "outputs": [
    {
     "name": "stdout",
     "output_type": "stream",
     "text": [
      "Fe+2 + OH- = FeO@ + H+\n",
      "2Fe+3 + Fe+2 + 4OH- = FeFe|3|2O4 + 4H+\n",
      "4Fe+3 + 2OH- = O2 + 4Fe+2 + 2H+\n",
      "H+ + OH- = H2O\n",
      "\n",
      "master: ['OH-', 'H+', 'Fe+2', 'Fe+3']\n",
      "dependent: ['FeO@', 'FeFe|3|2O4', 'O2', 'H2O']\n"
     ]
    }
   ],
   "source": [
    "formulas = [ 'OH-', 'H+', 'Fe+2', 'Fe+3', 'FeO@', 'FeFe|3|2O4', 'O2', 'H2O'] # 'H2O' and 'OH-' are in front of 'H+' and will be set as master \n",
    "#formulas = [\"Ca+2\", \"Fe+2\", \"Fe|3|+3\", \"H+\", \"OH-\", \"SO4-2\", \"CaSO4@\", \"CaOH+\", \"FeO@\", \"HFe|3|O2@\", \"FeOH+\", \"Fe|3|OH+2\", \"H2O@\",  \"FeS|-2|\", \"FeS|0|S|-2|\", \"S|0|2\"]\n",
    "\n",
    "chemicalReactions = cf.ChemicalReactions(formulas)\n",
    "\n",
    "reactions = chemicalReactions.generateReactions(formation=True) \n",
    "\n",
    "print(chemicalReactions.printReactions())\n",
    "print(f'master: {chemicalReactions.masterSubstances()}')\n",
    "print(f'dependent: {chemicalReactions.dependentSubstances()}')"
   ]
  },
  {
   "cell_type": "code",
   "execution_count": 69,
   "id": "c1ec7658",
   "metadata": {},
   "outputs": [
    {
     "name": "stdout",
     "output_type": "stream",
     "text": [
      "CaSO4(aq) = SO4-2 + Ca+2\n",
      "CaOH+ = OH- + Ca+2\n",
      "FeO(aq) + H+ = OH- + Fe+2\n",
      "HFeO2(aq) + H+ = 2OH- + Fe+3\n",
      "FeOH+ = OH- + Fe+2\n",
      "FeOH+2 = OH- + Fe+3\n",
      "H2O(aq) = OH- + H+\n",
      "Pyrrhotite + 4OH- + 8Fe+3 = SO4-2 + 4H+ + 9Fe+2\n",
      "Pyrite + 8OH- + 14Fe+3 = 2SO4-2 + 8H+ + 15Fe+2\n",
      "SO2(gas) + 2OH- + 2Fe+3 = SO4-2 + 2H+ + 2Fe+2\n",
      "\n",
      "master: ['Ca+2', 'Fe+2', 'Fe+3', 'H+', 'OH-', 'SO4-2']\n",
      "dependent: ['CaSO4(aq)', 'CaOH+', 'FeO(aq)', 'HFeO2(aq)', 'FeOH+', 'FeOH+2', 'H2O(aq)', 'Pyrrhotite', 'Pyrite', 'SO2(gas)']\n"
     ]
    }
   ],
   "source": [
    "formulas = [\"Ca+2\", \"Fe+2\", \"Fe|3|+3\", \"H+\", \"OH-\", \"SO4-2\", \"CaSO4@\", \"CaOH+\", \"FeO@\", \"HFe|3|O2@\", \"FeOH+\", \"Fe|3|OH+2\", \"H2O@\",  \"FeS|-2|\", \"FeS|0|S|-2|\", \"S|4|O2\"]\n",
    "symbols = [\"Ca+2\", \"Fe+2\", \"Fe+3\", \"H+\", \"OH-\", \"SO4-2\", \"CaSO4(aq)\", \"CaOH+\", \"FeO(aq)\", \"HFeO2(aq)\", \"FeOH+\", \"FeOH+2\", \"H2O(aq)\",  \"Pyrrhotite\", \"Pyrite\", \"SO2(gas)\"]\n",
    "chemicalReactions = cf.ChemicalReactions(formulas, symbols)\n",
    "\n",
    "reactions = chemicalReactions.generateReactions() \n",
    "\n",
    "print(chemicalReactions.printReactions())\n",
    "print(f'master: {chemicalReactions.masterSubstances()}')\n",
    "print(f'dependent: {chemicalReactions.dependentSubstances()}')"
   ]
  },
  {
   "cell_type": "code",
   "execution_count": 31,
   "id": "ca0d6332",
   "metadata": {},
   "outputs": [
    {
     "ename": "AttributeError",
     "evalue": "module 'chemicalfun' has no attribute 'calcStoichiometryMatrix'",
     "output_type": "error",
     "traceback": [
      "\u001b[0;31m---------------------------------------------------------------------------\u001b[0m",
      "\u001b[0;31mAttributeError\u001b[0m                            Traceback (most recent call last)",
      "\u001b[0;32m/tmp/ipykernel_175646/845313697.py\u001b[0m in \u001b[0;36m<module>\u001b[0;34m\u001b[0m\n\u001b[0;32m----> 1\u001b[0;31m \u001b[0mA_False\u001b[0m \u001b[0;34m=\u001b[0m \u001b[0mcf\u001b[0m\u001b[0;34m.\u001b[0m\u001b[0mcalcStoichiometryMatrix\u001b[0m\u001b[0;34m(\u001b[0m\u001b[0mformulas\u001b[0m\u001b[0;34m,\u001b[0m \u001b[0;32mFalse\u001b[0m\u001b[0;34m)\u001b[0m\u001b[0;34m.\u001b[0m\u001b[0mtranspose\u001b[0m\u001b[0;34m(\u001b[0m\u001b[0;34m)\u001b[0m\u001b[0;34m\u001b[0m\u001b[0;34m\u001b[0m\u001b[0m\n\u001b[0m\u001b[1;32m      2\u001b[0m \u001b[0mprint\u001b[0m\u001b[0;34m(\u001b[0m \u001b[0mA_False\u001b[0m \u001b[0;34m)\u001b[0m\u001b[0;34m\u001b[0m\u001b[0;34m\u001b[0m\u001b[0m\n\u001b[1;32m      3\u001b[0m \u001b[0mtype\u001b[0m\u001b[0;34m(\u001b[0m \u001b[0mcf\u001b[0m\u001b[0;34m.\u001b[0m\u001b[0mformulasElementsWithValence\u001b[0m\u001b[0;34m(\u001b[0m\u001b[0mformulas\u001b[0m\u001b[0;34m,\u001b[0m \u001b[0;32mFalse\u001b[0m\u001b[0;34m)\u001b[0m \u001b[0;34m)\u001b[0m\u001b[0;34m\u001b[0m\u001b[0;34m\u001b[0m\u001b[0m\n",
      "\u001b[0;31mAttributeError\u001b[0m: module 'chemicalfun' has no attribute 'calcStoichiometryMatrix'"
     ]
    }
   ],
   "source": [
    "\n",
    "A_False = cf.calcStoichiometryMatrix(formulas, False).transpose()\n",
    "print( A_False )\n",
    "type( cf.formulasElementsWithValence(formulas, False) )"
   ]
  },
  {
   "cell_type": "code",
   "execution_count": null,
   "id": "1436e5bd",
   "metadata": {},
   "outputs": [],
   "source": [
    "print( cf.formulasElementsWithValence(formulas, True) )\n",
    "A_True = cf.calcStoichiometryMatrix(formulas, True).transpose()\n",
    "print( A_True )"
   ]
  },
  {
   "cell_type": "code",
   "execution_count": null,
   "id": "96476eac",
   "metadata": {},
   "outputs": [],
   "source": [
    "reactionsDB = cf.DatabaseGenerator(A_False, symbols)\n",
    "reactionsDB3 = cf.DatabaseGenerator(reactionsDB)"
   ]
  },
  {
   "cell_type": "code",
   "execution_count": null,
   "id": "cc078bca",
   "metadata": {},
   "outputs": [],
   "source": [
    "\n",
    "print(reactionsDB.sizeSubstancesMap())\n",
    "\n",
    "print(reactionsDB.getCharge(\"Ca+2\"))\n",
    "print(reactionsDB.getCharge(\"H2O@\"))\n",
    "print(reactionsDB.getCharge(11))\n",
    "print(reactionsDB.formulaMatrix())"
   ]
  },
  {
   "cell_type": "code",
   "execution_count": null,
   "id": "0befb4cf",
   "metadata": {},
   "outputs": [],
   "source": [
    "#GeneratorT_CanonicalLe16\n",
    "print(\"Generator\")\n",
    "\n",
    "generator= cf.Generator()\n",
    "generator.compute(reactions.formulaMatrix())\n",
    "generator2 =  cf.Generator(generator)\n",
    "\n",
    "reactionss   = generator.reactionMatrix()\n",
    "print(\"Reactions matrix\")\n",
    "print(reactionss)\n",
    "print(\"isubstances\")\n",
    "print(generator.isubstances())\n",
    "print(\"imaster\")\n",
    "print(generator.imaster())\n",
    "print(\"inonmaster\")\n",
    "print(generator.inonmaster())"
   ]
  },
  {
   "cell_type": "code",
   "execution_count": null,
   "id": "f1b3bae0",
   "metadata": {},
   "outputs": [],
   "source": [
    "#Reaction\n",
    "print(\"Reaction\")\n",
    "iSubstances = generator.isubstances()\n",
    "\n",
    "reac_1 = cf.Reaction(reactions[:,1], iSubstances, reactionsDB, \"\")\n",
    "print( reac_1.isIsocoulombic())\n",
    "print( reac_1.isIsoelectric())\n",
    "print( reac_1.chargePattern())\n",
    "print( reac_1.coefficients())\n",
    "\n",
    "reac_n = cf.Reaction(reactions[:,3], iSubstances, reactionsDB, \"\")\n",
    "print( reac_n.isIsocoulombic())\n",
    "print( reac_n.isIsoelectric())\n",
    "print( reac_n.chargePattern())\n",
    "print( reac_n.coefficients())\n",
    "\n",
    "reac_s = reac_n + reac_1\n",
    "print( reac_s.isIsocoulombic())\n",
    "print( reac_s.isIsoelectric())\n",
    "print( reac_s.chargePattern())\n",
    "print( reac_s.coefficients())\n",
    "\n",
    "reac_d = reac_1 * 2.5\n",
    "print( reac_d.isIsocoulombic())\n",
    "print( reac_d.isIsoelectric())\n",
    "print( reac_d.chargePattern())\n",
    "print( reac_d.coefficients())\n"
   ]
  },
  {
   "cell_type": "code",
   "execution_count": null,
   "id": "8542b385",
   "metadata": {},
   "outputs": [],
   "source": [
    "reac_1"
   ]
  },
  {
   "cell_type": "code",
   "execution_count": null,
   "id": "7ddf3a4f",
   "metadata": {},
   "outputs": [],
   "source": [
    "reac_1."
   ]
  }
 ],
 "metadata": {
  "kernelspec": {
   "display_name": "Python 3 (ipykernel)",
   "language": "python",
   "name": "python3"
  },
  "language_info": {
   "codemirror_mode": {
    "name": "ipython",
    "version": 3
   },
   "file_extension": ".py",
   "mimetype": "text/x-python",
   "name": "python",
   "nbconvert_exporter": "python",
   "pygments_lexer": "ipython3",
   "version": "3.7.11"
  }
 },
 "nbformat": 4,
 "nbformat_minor": 5
}
