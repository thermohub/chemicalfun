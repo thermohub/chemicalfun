{
 "cells": [
  {
   "cell_type": "code",
   "execution_count": 1,
   "id": "b50dc8a6",
   "metadata": {},
   "outputs": [],
   "source": [
    "import chemicalfun as cf\n",
    "#import numpy as np"
   ]
  },
  {
   "cell_type": "code",
   "execution_count": 2,
   "id": "27e9f901",
   "metadata": {},
   "outputs": [],
   "source": [
    "#elements = cf.DBElements()\n",
    "#all_elements.readElements(dbElements_str);"
   ]
  },
  {
   "cell_type": "code",
   "execution_count": 3,
   "id": "6fac5d75",
   "metadata": {},
   "outputs": [],
   "source": [
    "file = open('../Resources/elementsDB.json')"
   ]
  },
  {
   "cell_type": "code",
   "execution_count": null,
   "id": "4ea32d9b",
   "metadata": {},
   "outputs": [],
   "source": [
    "#elements.readElements(file.read())"
   ]
  },
  {
   "cell_type": "code",
   "execution_count": null,
   "id": "b813c89d",
   "metadata": {},
   "outputs": [],
   "source": [
    "print(\"DBElements\")\n",
    "print(elements.elementsKeys())\n"
   ]
  },
  {
   "cell_type": "code",
   "execution_count": null,
   "id": "1ec0153c",
   "metadata": {},
   "outputs": [],
   "source": [
    "print(\"\")\n",
    "print(elements.elements())\n"
   ]
  },
  {
   "cell_type": "code",
   "execution_count": null,
   "id": "3ed1364b",
   "metadata": {},
   "outputs": [],
   "source": [
    "print(\"\")\n",
    "print(elements.elementsKeysList())"
   ]
  },
  {
   "cell_type": "code",
   "execution_count": null,
   "id": "4e3a2a42",
   "metadata": {},
   "outputs": [],
   "source": [
    "print(\"\")\n",
    "print(elements.writeElements())\n"
   ]
  },
  {
   "cell_type": "code",
   "execution_count": null,
   "id": "4fea172f",
   "metadata": {},
   "outputs": [],
   "source": [
    "print(\"\")\n",
    "print(elements.CSV())\n"
   ]
  },
  {
   "cell_type": "code",
   "execution_count": null,
   "id": "9a9d5ae5",
   "metadata": {},
   "outputs": [],
   "source": [
    "formulas = [\"Al(OH)2+\", \"CaCO3\"]\n",
    "type(elements)"
   ]
  },
  {
   "cell_type": "code",
   "execution_count": null,
   "id": "7000ddb4",
   "metadata": {},
   "outputs": [],
   "source": [
    "cf.formulasProperties(elements, formulas)"
   ]
  },
  {
   "cell_type": "code",
   "execution_count": null,
   "id": "8236212f",
   "metadata": {},
   "outputs": [],
   "source": [
    "print(cf.formulasPropertiesCSV(elements, formulas))"
   ]
  },
  {
   "cell_type": "code",
   "execution_count": null,
   "id": "f97d09a0",
   "metadata": {},
   "outputs": [],
   "source": [
    "cf.stoichiometryMatrix(elements, formulas)"
   ]
  },
  {
   "cell_type": "code",
   "execution_count": null,
   "id": "02752651",
   "metadata": {},
   "outputs": [],
   "source": [
    "print(cf.stoichiometryMatrixCSV(elements,formulas))"
   ]
  },
  {
   "cell_type": "code",
   "execution_count": 4,
   "id": "94532b5f",
   "metadata": {},
   "outputs": [],
   "source": [
    "formula_list = [\n",
    "    \"H2O\",\n",
    "    \"H2O@\",\n",
    "    \"H+\",\n",
    "    \"OH-\",\n",
    "    \"H|0|2\",\n",
    "    \"O|0|2\",\n",
    "    \"HOO|0|-\",\n",
    "    \"Fe|2|Fe|3|3O4\"\n",
    "]"
   ]
  },
  {
   "cell_type": "code",
   "execution_count": 5,
   "id": "b8e7813d",
   "metadata": {},
   "outputs": [
    {
     "name": "stdout",
     "output_type": "stream",
     "text": [
      "[Fe(2), Fe(3), H(0), H(1), O(-2), O(0), Zz(0)|4]\n",
      "[[0.0, 0.0, 0.0, 2.0, 1.0, 0.0, 0.0], [0.0, 0.0, 0.0, 2.0, 1.0, 0.0, 0.0], [0.0, 0.0, 0.0, 1.0, 0.0, 0.0, 1.0], [0.0, 0.0, 0.0, 1.0, 1.0, 0.0, -1.0], [0.0, 0.0, 2.0, 0.0, 0.0, 0.0, 0.0], [0.0, 0.0, 0.0, 0.0, 0.0, 2.0, 0.0], [0.0, 0.0, 0.0, 1.0, 1.0, 1.0, -1.0], [1.0, 3.0, 0.0, 0.0, 4.0, 0.0, 0.0]]\n"
     ]
    }
   ],
   "source": [
    "elements_ = cf.formulasElementsWithValence(formula_list);\n",
    "print(elements_)\n",
    "print(cf.forumlasStoichiometryMatrixWithValence(formula_list, elements_))\n"
   ]
  },
  {
   "cell_type": "code",
   "execution_count": null,
   "id": "d4b54dac",
   "metadata": {},
   "outputs": [],
   "source": [
    "symbols = ['Ca+2',\n",
    "'Fe+2',\n",
    "'Fe|3|+3',\n",
    "'H+',\n",
    "'OH-',\n",
    "'SO4-2',\n",
    "'CaSO4@',\n",
    "'CaOH+',\n",
    "'FeO@',\n",
    "'Fe|3|O+',\n",
    "'HFe|3|O2@',\n",
    "'H2O@',\n",
    "'Fe|3|2O3',\n",
    "'CaO',\n",
    "'FeFe|3|2O4',\n",
    "'O|0|2@',\n",
    "'FeS|-2|',\n",
    "'FeS|0|S|-2|',\n",
    "'S|0|2',\n",
    "'S|4|O2']\n",
    "\n",
    "formulas = ['Ca+2',\n",
    "'Fe+2',\n",
    "'Fe|3|+3',\n",
    "'H+',\n",
    "'OH-',\n",
    "'SO4-2',\n",
    "'CaSO4@',\n",
    "'CaOH+',\n",
    "'FeO@',\n",
    "'Fe|3|O+',\n",
    "'HFe|3|O2@',\n",
    "'H2O@',\n",
    "'Fe|3|2O3',\n",
    "'CaO',\n",
    "'FeFe|3|2O4',\n",
    "'O|0|2@',\n",
    "'FeS|-2|',\n",
    "'FeS|0|S|-2|',\n",
    "'S|0|2',\n",
    "'S|4|O2']"
   ]
  },
  {
   "cell_type": "code",
   "execution_count": null,
   "id": "3d0ba311",
   "metadata": {},
   "outputs": [],
   "source": [
    "\n",
    "A_False = cf.calcStoichiometryMatrix(formulas, False).transpose()\n",
    "print( A_False )\n",
    "type( cf.formulasElementsWithValence(formulas, False) )"
   ]
  },
  {
   "cell_type": "code",
   "execution_count": null,
   "id": "4b7eb079",
   "metadata": {},
   "outputs": [],
   "source": [
    "print( cf.formulasElementsWithValence(formulas, True) )\n",
    "A_True = cf.calcStoichiometryMatrix(formulas, True).transpose()\n",
    "print( A_True )"
   ]
  },
  {
   "cell_type": "code",
   "execution_count": null,
   "id": "c38bca59",
   "metadata": {},
   "outputs": [],
   "source": [
    "reactionsDB = cf.ChemicalReactions(A_False, symbols)\n",
    "reactionsDB3 = cf.ChemicalReactions(reactionsDB)"
   ]
  },
  {
   "cell_type": "code",
   "execution_count": null,
   "id": "4bc52207",
   "metadata": {},
   "outputs": [],
   "source": [
    "\n",
    "print(reactionsDB.sizeSubstancesMap())\n",
    "\n",
    "print(reactionsDB.getCharge(\"Ca+2\"))\n",
    "print(reactionsDB.getCharge(\"H2O@\"))\n",
    "print(reactionsDB.getCharge(11))\n",
    "print(reactionsDB.formulaMatrix())"
   ]
  },
  {
   "cell_type": "code",
   "execution_count": null,
   "id": "49f97000",
   "metadata": {},
   "outputs": [],
   "source": [
    "#GeneratorT_CanonicalLe16\n",
    "print(\"Generator\")\n",
    "\n",
    "generator= cf.Generator()\n",
    "generator.compute(reactionsDB.formulaMatrix())\n",
    "generator2 =  cf.Generator(generator)\n",
    "\n",
    "reactions   = generator.reactionMatrix()\n",
    "print(\"Reactions matrix\")\n",
    "print(reactions)\n",
    "print(\"isubstances\")\n",
    "print(generator.isubstances())\n",
    "print(\"imaster\")\n",
    "print(generator.imaster())\n",
    "print(\"inonmaster\")\n",
    "print(generator.inonmaster())"
   ]
  },
  {
   "cell_type": "code",
   "execution_count": null,
   "id": "5bac9f4d",
   "metadata": {},
   "outputs": [],
   "source": [
    "#Reaction\n",
    "print(\"Reaction\")\n",
    "iSubstances = generator.isubstances()\n",
    "\n",
    "reac_1 = cf.Reaction(reactions[:,1], iSubstances, reactionsDB, \"\")\n",
    "print( reac_1.isIsocoulombic())\n",
    "print( reac_1.isIsoelectric())\n",
    "print( reac_1.chargePattern())\n",
    "print( reac_1.coefficients())\n",
    "\n",
    "reac_n = cf.Reaction(reactions[:,3], iSubstances, reactionsDB, \"\")\n",
    "print( reac_n.isIsocoulombic())\n",
    "print( reac_n.isIsoelectric())\n",
    "print( reac_n.chargePattern())\n",
    "print( reac_n.coefficients())\n",
    "\n",
    "reac_s = reac_n + reac_1\n",
    "print( reac_s.isIsocoulombic())\n",
    "print( reac_s.isIsoelectric())\n",
    "print( reac_s.chargePattern())\n",
    "print( reac_s.coefficients())\n",
    "\n",
    "reac_d = reac_1 * 2.5\n",
    "print( reac_d.isIsocoulombic())\n",
    "print( reac_d.isIsoelectric())\n",
    "print( reac_d.chargePattern())\n",
    "print( reac_d.coefficients())\n"
   ]
  },
  {
   "cell_type": "code",
   "execution_count": null,
   "id": "595a848d",
   "metadata": {},
   "outputs": [],
   "source": [
    "reac_1"
   ]
  },
  {
   "cell_type": "code",
   "execution_count": null,
   "id": "01fab9ac",
   "metadata": {},
   "outputs": [],
   "source": [
    "reac_1."
   ]
  }
 ],
 "metadata": {
  "kernelspec": {
   "display_name": "Python 3 (ipykernel)",
   "language": "python",
   "name": "python3"
  },
  "language_info": {
   "codemirror_mode": {
    "name": "ipython",
    "version": 3
   },
   "file_extension": ".py",
   "mimetype": "text/x-python",
   "name": "python",
   "nbconvert_exporter": "python",
   "pygments_lexer": "ipython3",
   "version": "3.7.11"
  }
 },
 "nbformat": 4,
 "nbformat_minor": 5
}
